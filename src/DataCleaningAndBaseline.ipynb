{
 "cells": [
  {
   "cell_type": "code",
   "execution_count": 1,
   "metadata": {},
   "outputs": [],
   "source": [
    "# !pip install --upgrade pip --quiet\n",
    "# !pip install -r requirements.txt --quiet\n",
    "\n",
    "import os\n",
    "import pandas as pd\n",
    "import numpy as np\n",
    "import matplotlib.pyplot as plt\n",
    "import random\n",
    "import time\n",
    "from sklearn.metrics import confusion_matrix\n",
    "from sklearn.metrics import roc_auc_score as roc_auc_score\n"
   ]
  },
  {
   "cell_type": "markdown",
   "metadata": {},
   "source": [
    "# Loading raw_data provided with the problem statement."
   ]
  },
  {
   "cell_type": "code",
   "execution_count": 57,
   "metadata": {},
   "outputs": [],
   "source": [
    "def load_raw_data():\n",
    "#     current_file = os.path.abspath(os.path.dirname())\n",
    "    current_file = \"\"\n",
    "\n",
    "    csv_filename = os.path.join(current_file, '../training_data/campaign_data.csv')\n",
    "    campaign_data = pd.read_csv(csv_filename)\n",
    "\n",
    "    csv_filename = os.path.join(current_file, '../training_data/coupon_item_mapping.csv')\n",
    "    coupon_item_mapping_data = pd.read_csv(csv_filename)\n",
    "\n",
    "    csv_filename = os.path.join(current_file, '../training_data/customer_demographics.csv')\n",
    "    customer_demographics_data = pd.read_csv(csv_filename)\n",
    "\n",
    "    csv_filename = os.path.join(current_file, '../training_data/customer_transaction_data.csv')\n",
    "    customer_transaction_data = pd.read_csv(csv_filename)\n",
    "\n",
    "    csv_filename = os.path.join(current_file, '../training_data/item_data.csv')\n",
    "    item_data = pd.read_csv(csv_filename)\n",
    "\n",
    "    csv_filename = os.path.join(current_file, '../training_data/train.csv')\n",
    "    train_data = pd.read_csv(csv_filename)\n",
    "\n",
    "    csv_filename = os.path.join(current_file, '../test_data/test_QyjYwdj.csv')\n",
    "    test_data = pd.read_csv(csv_filename)\n",
    "    \n",
    "    return campaign_data, coupon_item_mapping_data, customer_demographics_data, \\\n",
    "           customer_transaction_data, item_data, train_data, test_data"
   ]
  },
  {
   "cell_type": "code",
   "execution_count": 58,
   "metadata": {},
   "outputs": [],
   "source": [
    "campaign_data_pure, coupon_item_mapping_data_pure, customer_demographics_data_pure, \\\n",
    "customer_transaction_data_pure, item_data_pure, train_data_pure, test_data_pure  = load_raw_data()\n"
   ]
  },
  {
   "cell_type": "code",
   "execution_count": 59,
   "metadata": {},
   "outputs": [],
   "source": [
    "# Saving a copy of raw_data read from csv so as to avoid re-reading, in case any changes are made in the \n",
    "# respective dataframes and original version is desired.\n",
    "# This is not the best solution; if either he dataset is large or further computations require huge memory.\n",
    "campaign_data, coupon_item_mapping_data, customer_demographics_data, \\\n",
    "customer_transaction_data, item_data, train_data, test_data \\\n",
    "= campaign_data_pure, coupon_item_mapping_data_pure, customer_demographics_data_pure, \\\n",
    "customer_transaction_data_pure, item_data_pure, train_data_pure, test_data_pure\n"
   ]
  },
  {
   "cell_type": "markdown",
   "metadata": {},
   "source": [
    "# Data-cleaning"
   ]
  },
  {
   "cell_type": "markdown",
   "metadata": {},
   "source": [
    "## Basic utilities for data-analysis"
   ]
  },
  {
   "cell_type": "code",
   "execution_count": 60,
   "metadata": {},
   "outputs": [],
   "source": [
    "def univariate_analysis(df):\n",
    "    print(\"\\n Head: \")\n",
    "    print(df.head())\n",
    "    \n",
    "    print(\"\\n Uniqueness analysis: \")\n",
    "    print(df.nunique())\n",
    "\n",
    "    print(\"\\n Number of NaN Entries: \")\n",
    "    print(df.isna().sum())\n",
    "\n",
    "    print(\"\\n Number of Null Entries: \")\n",
    "    print(df.isnull().sum())\n",
    "\n",
    "    print(\"\\n Statistical Description: \")\n",
    "    print(df.describe(include='all'))\n"
   ]
  },
  {
   "cell_type": "markdown",
   "metadata": {},
   "source": [
    "## 'campaign_data' data-cleaning and imputation"
   ]
  },
  {
   "cell_type": "code",
   "execution_count": 61,
   "metadata": {},
   "outputs": [
    {
     "name": "stdout",
     "output_type": "stream",
     "text": [
      "\n",
      " -------------------------------------- campaign_data --------------------------------------- \n",
      "\n",
      " campaign_data_columns:  ['campaign_id' 'campaign_type' 'start_date' 'end_date']\n",
      "\n",
      " Head: \n",
      "   campaign_id campaign_type start_date   end_date\n",
      "0           24             Y 2013-10-21 2013-12-20\n",
      "1           25             Y 2013-10-21 2013-11-22\n",
      "2           20             Y 2013-07-09 2013-11-16\n",
      "3           23             Y 2013-08-10 2013-11-15\n",
      "4           21             Y 2013-09-16 2013-10-18\n",
      "\n",
      " Uniqueness analysis: \n",
      "campaign_id      28\n",
      "campaign_type     2\n",
      "start_date       25\n",
      "end_date         26\n",
      "dtype: int64\n",
      "\n",
      " Number of NaN Entries: \n",
      "campaign_id      0\n",
      "campaign_type    0\n",
      "start_date       0\n",
      "end_date         0\n",
      "dtype: int64\n",
      "\n",
      " Number of Null Entries: \n",
      "campaign_id      0\n",
      "campaign_type    0\n",
      "start_date       0\n",
      "end_date         0\n",
      "dtype: int64\n",
      "\n",
      " Statistical Description: \n",
      "        campaign_id campaign_type           start_date             end_date\n",
      "count     28.000000            28                   28                   28\n",
      "unique          NaN             2                   25                   26\n",
      "top             NaN             Y  2013-10-21 00:00:00  2013-10-18 00:00:00\n",
      "freq            NaN            22                    2                    2\n",
      "first           NaN           NaN  2012-08-10 00:00:00  2012-09-21 00:00:00\n",
      "last            NaN           NaN  2013-12-01 00:00:00  2013-12-20 00:00:00\n",
      "mean      15.571429           NaN                  NaN                  NaN\n",
      "std        9.118271           NaN                  NaN                  NaN\n",
      "min        1.000000           NaN                  NaN                  NaN\n",
      "25%        7.750000           NaN                  NaN                  NaN\n",
      "50%       16.500000           NaN                  NaN                  NaN\n",
      "75%       23.250000           NaN                  NaN                  NaN\n",
      "max       30.000000           NaN                  NaN                  NaN\n"
     ]
    }
   ],
   "source": [
    "print(\"\\n -------------------------------------- campaign_data --------------------------------------- \")\n",
    "campaign_data_columns =  campaign_data.columns.values\n",
    "print(\"\\n campaign_data_columns: \", campaign_data_columns)\n",
    "\n",
    "univariate_analysis(campaign_data)\n",
    "\n",
    "campaign_data['start_date'] = pd.to_datetime(campaign_data.start_date, format=\"%d/%m/%y\")\n",
    "campaign_data['end_date'] = pd.to_datetime(campaign_data.end_date, format=\"%d/%m/%y\")\n"
   ]
  },
  {
   "cell_type": "markdown",
   "metadata": {},
   "source": [
    "## 'coupon_item_mapping_data' data-cleaning and imputation\n"
   ]
  },
  {
   "cell_type": "code",
   "execution_count": 62,
   "metadata": {},
   "outputs": [
    {
     "name": "stdout",
     "output_type": "stream",
     "text": [
      "\n",
      " -------------------------------------- coupon_item_mapping_data --------------------------------------- \n",
      "\n",
      " coupon_item_mapping_data_columns:  ['coupon_id' 'item_id']\n",
      "\n",
      " Head: \n",
      "   coupon_id  item_id\n",
      "0        105       37\n",
      "1        107       75\n",
      "2        494       76\n",
      "3        522       77\n",
      "4        518       77\n",
      "\n",
      " Uniqueness analysis: \n",
      "coupon_id     1116\n",
      "item_id      36289\n",
      "dtype: int64\n",
      "\n",
      " Number of NaN Entries: \n",
      "coupon_id    0\n",
      "item_id      0\n",
      "dtype: int64\n",
      "\n",
      " Number of Null Entries: \n",
      "coupon_id    0\n",
      "item_id      0\n",
      "dtype: int64\n",
      "\n",
      " Statistical Description: \n",
      "          coupon_id       item_id\n",
      "count  92663.000000  92663.000000\n",
      "mean     155.967387  36508.613071\n",
      "std      282.991720  21131.312716\n",
      "min        1.000000      1.000000\n",
      "25%       22.000000  18255.500000\n",
      "50%       30.000000  37955.000000\n",
      "75%       42.000000  54191.500000\n",
      "max     1116.000000  74061.000000\n"
     ]
    }
   ],
   "source": [
    "print(\"\\n -------------------------------------- coupon_item_mapping_data --------------------------------------- \")\n",
    "coupon_item_mapping_data_columns =  coupon_item_mapping_data.columns.values\n",
    "print(\"\\n coupon_item_mapping_data_columns: \", coupon_item_mapping_data_columns)\n",
    "\n",
    "univariate_analysis(coupon_item_mapping_data)\n"
   ]
  },
  {
   "cell_type": "markdown",
   "metadata": {},
   "source": [
    "## 'customer_transaction_data' data-cleaning and imputation\n"
   ]
  },
  {
   "cell_type": "code",
   "execution_count": 63,
   "metadata": {},
   "outputs": [
    {
     "name": "stdout",
     "output_type": "stream",
     "text": [
      "\n",
      " -------------------------------------- customer_transaction_data --------------------------------------- \n",
      "\n",
      " customer_transaction_data_columns:  ['date' 'customer_id' 'item_id' 'quantity' 'selling_price'\n",
      " 'other_discount' 'coupon_discount']\n",
      "\n",
      " Head: \n",
      "        date  customer_id  item_id  quantity  selling_price  other_discount  \\\n",
      "0 2012-01-02         1501    26830         1          35.26          -10.69   \n",
      "1 2012-01-02         1501    54253         1          53.43          -13.89   \n",
      "2 2012-01-02         1501    31962         1         106.50          -14.25   \n",
      "3 2012-01-02         1501    33647         1          67.32            0.00   \n",
      "4 2012-01-02         1501    48199         1          71.24          -28.14   \n",
      "\n",
      "   coupon_discount  \n",
      "0              0.0  \n",
      "1              0.0  \n",
      "2              0.0  \n",
      "3              0.0  \n",
      "4              0.0  \n",
      "\n",
      " Uniqueness analysis: \n",
      "date                 549\n",
      "customer_id         1582\n",
      "item_id            74063\n",
      "quantity            9252\n",
      "selling_price       4923\n",
      "other_discount      1418\n",
      "coupon_discount      232\n",
      "dtype: int64\n",
      "\n",
      " Number of NaN Entries: \n",
      "date               0\n",
      "customer_id        0\n",
      "item_id            0\n",
      "quantity           0\n",
      "selling_price      0\n",
      "other_discount     0\n",
      "coupon_discount    0\n",
      "dtype: int64\n",
      "\n",
      " Number of Null Entries: \n",
      "date               0\n",
      "customer_id        0\n",
      "item_id            0\n",
      "quantity           0\n",
      "selling_price      0\n",
      "other_discount     0\n",
      "coupon_discount    0\n",
      "dtype: int64\n",
      "\n",
      " Statistical Description: \n",
      "                       date   customer_id       item_id      quantity  \\\n",
      "count               1324566  1.324566e+06  1.324566e+06  1.324566e+06   \n",
      "unique                  549           NaN           NaN           NaN   \n",
      "top     2012-09-03 00:00:00           NaN           NaN           NaN   \n",
      "freq                   4753           NaN           NaN           NaN   \n",
      "first   2012-01-02 00:00:00           NaN           NaN           NaN   \n",
      "last    2013-07-03 00:00:00           NaN           NaN           NaN   \n",
      "mean                    NaN  8.040020e+02  2.951903e+04  1.306633e+02   \n",
      "std                     NaN  4.573363e+02  1.790806e+04  1.311545e+03   \n",
      "min                     NaN  1.000000e+00  1.000000e+00  1.000000e+00   \n",
      "25%                     NaN  4.180000e+02  1.468400e+04  1.000000e+00   \n",
      "50%                     NaN  8.010000e+02  2.659700e+04  1.000000e+00   \n",
      "75%                     NaN  1.198000e+03  4.240575e+04  1.000000e+00   \n",
      "max                     NaN  1.582000e+03  7.406600e+04  8.963800e+04   \n",
      "\n",
      "        selling_price  other_discount  coupon_discount  \n",
      "count    1.324566e+06    1.324566e+06     1.324566e+06  \n",
      "unique            NaN             NaN              NaN  \n",
      "top               NaN             NaN              NaN  \n",
      "freq              NaN             NaN              NaN  \n",
      "first             NaN             NaN              NaN  \n",
      "last              NaN             NaN              NaN  \n",
      "mean     1.146036e+02   -1.776871e+01    -5.948983e-01  \n",
      "std      1.529053e+02    3.788867e+01     7.069367e+00  \n",
      "min      3.600000e-01   -3.120310e+03    -1.992230e+03  \n",
      "25%      4.916000e+01   -2.315000e+01     0.000000e+00  \n",
      "50%      7.801000e+01   -1.780000e+00     0.000000e+00  \n",
      "75%      1.243100e+02    0.000000e+00     0.000000e+00  \n",
      "max      1.780964e+04    0.000000e+00     0.000000e+00  \n"
     ]
    }
   ],
   "source": [
    "print(\"\\n -------------------------------------- customer_transaction_data --------------------------------------- \")\n",
    "customer_transaction_data_columns =  customer_transaction_data.columns.values\n",
    "print(\"\\n customer_transaction_data_columns: \", customer_transaction_data_columns)\n",
    "univariate_analysis(customer_transaction_data)\n",
    "\n",
    "customer_transaction_data['date'] = pd.to_datetime(customer_transaction_data.date, format=\"%Y/%m/%d\")\n",
    "\n",
    "# Adding column: 'cost_price' =  selling_price - coupon_discount - other_discount\n",
    "customer_transaction_data_pure['cost_price'] = \\\n",
    "customer_transaction_data_pure.selling_price - \\\n",
    "customer_transaction_data_pure.coupon_discount - \\\n",
    "customer_transaction_data_pure.other_discount\n",
    "\n",
    "# Adding column: 'rate' =  cost_price / quantity\n",
    "customer_transaction_data_pure['rate'] = \\\n",
    "customer_transaction_data_pure['cost_price'] / customer_transaction_data_pure['quantity']\n"
   ]
  },
  {
   "cell_type": "markdown",
   "metadata": {},
   "source": [
    "## 'item_data' data-cleaning and imputation\n"
   ]
  },
  {
   "cell_type": "code",
   "execution_count": 64,
   "metadata": {},
   "outputs": [
    {
     "name": "stdout",
     "output_type": "stream",
     "text": [
      "\n",
      " -------------------------------------- item_data --------------------------------------- \n",
      "\n",
      " item_data_columns:  ['item_id' 'brand' 'brand_type' 'category']\n",
      "\n",
      " Head: \n",
      "   item_id  brand   brand_type       category\n",
      "0        1      1  Established        Grocery\n",
      "1        2      1  Established  Miscellaneous\n",
      "2        3     56        Local         Bakery\n",
      "3        4     56        Local        Grocery\n",
      "4        5     56        Local        Grocery\n",
      "\n",
      " Uniqueness analysis: \n",
      "item_id       74066\n",
      "brand          5528\n",
      "brand_type        2\n",
      "category         19\n",
      "dtype: int64\n",
      "\n",
      " Number of NaN Entries: \n",
      "item_id       0\n",
      "brand         0\n",
      "brand_type    0\n",
      "category      0\n",
      "dtype: int64\n",
      "\n",
      " Number of Null Entries: \n",
      "item_id       0\n",
      "brand         0\n",
      "brand_type    0\n",
      "category      0\n",
      "dtype: int64\n",
      "\n",
      " Statistical Description: \n",
      "             item_id         brand   brand_type category\n",
      "count   74066.000000  74066.000000        74066    74066\n",
      "unique           NaN           NaN            2       19\n",
      "top              NaN           NaN  Established  Grocery\n",
      "freq             NaN           NaN        62842    32448\n",
      "mean    37033.500000   1485.560055          NaN      NaN\n",
      "std     21381.156856   1537.385673          NaN      NaN\n",
      "min         1.000000      1.000000          NaN      NaN\n",
      "25%     18517.250000    278.000000          NaN      NaN\n",
      "50%     37033.500000    978.000000          NaN      NaN\n",
      "75%     55549.750000   2013.000000          NaN      NaN\n",
      "max     74066.000000   5528.000000          NaN      NaN\n"
     ]
    }
   ],
   "source": [
    "print(\"\\n -------------------------------------- item_data --------------------------------------- \")\n",
    "item_data_columns =  item_data.columns.values\n",
    "print(\"\\n item_data_columns: \", item_data_columns)\n",
    "univariate_analysis(item_data)\n"
   ]
  },
  {
   "cell_type": "markdown",
   "metadata": {},
   "source": [
    "## 'customer_demographics_data' data-cleaning and imputation"
   ]
  },
  {
   "cell_type": "code",
   "execution_count": 65,
   "metadata": {},
   "outputs": [
    {
     "name": "stdout",
     "output_type": "stream",
     "text": [
      "\n",
      " -------------------------------------- customer_demographics_data --------------------------------------- \n",
      "\n",
      " customer_demographics_data_columns:  ['customer_id' 'age_range' 'marital_status' 'rented' 'family_size'\n",
      " 'no_of_children' 'income_bracket']\n",
      "\n",
      " Head: \n",
      "   customer_id age_range marital_status  rented family_size no_of_children  \\\n",
      "0            1       70+        Married       0           2            NaN   \n",
      "1            6     46-55        Married       0           2            NaN   \n",
      "2            7     26-35            NaN       0           3              1   \n",
      "3            8     26-35            NaN       0           4              2   \n",
      "4           10     46-55         Single       0           1            NaN   \n",
      "\n",
      "   income_bracket  \n",
      "0               4  \n",
      "1               5  \n",
      "2               3  \n",
      "3               6  \n",
      "4               5  \n",
      "\n",
      " Uniqueness analysis: \n",
      "customer_id       760\n",
      "age_range           6\n",
      "marital_status      2\n",
      "rented              2\n",
      "family_size         5\n",
      "no_of_children      3\n",
      "income_bracket     12\n",
      "dtype: int64\n",
      "\n",
      " Number of NaN Entries: \n",
      "customer_id         0\n",
      "age_range           0\n",
      "marital_status    329\n",
      "rented              0\n",
      "family_size         0\n",
      "no_of_children    538\n",
      "income_bracket      0\n",
      "dtype: int64\n",
      "\n",
      " Number of Null Entries: \n",
      "customer_id         0\n",
      "age_range           0\n",
      "marital_status    329\n",
      "rented              0\n",
      "family_size         0\n",
      "no_of_children    538\n",
      "income_bracket      0\n",
      "dtype: int64\n",
      "\n",
      " Statistical Description: \n",
      "        customer_id age_range marital_status      rented family_size  \\\n",
      "count    760.000000       760            431  760.000000         760   \n",
      "unique          NaN         6              2         NaN           5   \n",
      "top             NaN     46-55        Married         NaN           2   \n",
      "freq            NaN       271            317         NaN         303   \n",
      "mean     779.201316       NaN            NaN    0.053947         NaN   \n",
      "std      459.754429       NaN            NaN    0.226063         NaN   \n",
      "min        1.000000       NaN            NaN    0.000000         NaN   \n",
      "25%      382.750000       NaN            NaN    0.000000         NaN   \n",
      "50%      774.500000       NaN            NaN    0.000000         NaN   \n",
      "75%     1187.250000       NaN            NaN    0.000000         NaN   \n",
      "max     1581.000000       NaN            NaN    1.000000         NaN   \n",
      "\n",
      "       no_of_children  income_bracket  \n",
      "count             222      760.000000  \n",
      "unique              3             NaN  \n",
      "top                 1             NaN  \n",
      "freq              107             NaN  \n",
      "mean              NaN        4.715789  \n",
      "std               NaN        2.258817  \n",
      "min               NaN        1.000000  \n",
      "25%               NaN        3.000000  \n",
      "50%               NaN        5.000000  \n",
      "75%               NaN        6.000000  \n",
      "max               NaN       12.000000  \n"
     ]
    }
   ],
   "source": [
    "print(\"\\n -------------------------------------- customer_demographics_data --------------------------------------- \")\n",
    "customer_demographics_data_columns =  customer_demographics_data.columns.values\n",
    "print(\"\\n customer_demographics_data_columns: \", customer_demographics_data_columns)\n",
    "univariate_analysis(customer_demographics_data)"
   ]
  },
  {
   "cell_type": "code",
   "execution_count": null,
   "metadata": {},
   "outputs": [],
   "source": []
  },
  {
   "cell_type": "code",
   "execution_count": 66,
   "metadata": {},
   "outputs": [],
   "source": [
    "# Converting 'family_size' = 5+ to numeric 5.\n",
    "customer_demographics_data.loc[(customer_demographics_data.family_size=='5+'), \"family_size\"] = '5'\n",
    "customer_demographics_data.family_size = pd.to_numeric(customer_demographics_data.family_size)\n",
    "\n",
    "\n",
    "# Converting 'no_of_children' = 3+ to numeric 3.\n",
    "customer_demographics_data.loc[ customer_demographics_data.no_of_children == '3+', \"no_of_children\" ] = 3\n",
    "customer_demographics_data.no_of_children = pd.to_numeric(customer_demographics_data.no_of_children)\n",
    "\n",
    "\n",
    "# Converting 'age_range' buckets to numeric mean of the repsective buckets.\n",
    "# Other few approaches could have been to choose the min or max. But, given the varied bucket sizes,\n",
    "# 'mean' seems to be a more representative of the bucket.\n",
    "# (assuming a Gaussian distribution of data within each bucket)\n",
    "customer_demographics_data.loc[customer_demographics_data.age_range=='18-25', \"age_range\"] = 21.5\n",
    "customer_demographics_data.loc[customer_demographics_data.age_range=='26-35', \"age_range\"] = 30.5\n",
    "customer_demographics_data.loc[customer_demographics_data.age_range=='36-45', \"age_range\"] = 40.5\n",
    "customer_demographics_data.loc[customer_demographics_data.age_range=='46-55', \"age_range\"] = 50.5\n",
    "customer_demographics_data.loc[customer_demographics_data.age_range=='56-70', \"age_range\"] = 63\n",
    "customer_demographics_data.loc[customer_demographics_data.age_range=='70+', \"age_range\"] = 75\n",
    "customer_demographics_data.age_range = pd.to_numeric(customer_demographics_data.age_range)"
   ]
  },
  {
   "cell_type": "markdown",
   "metadata": {},
   "source": [
    "### Imputation of customer_demographics_data"
   ]
  },
  {
   "cell_type": "code",
   "execution_count": 67,
   "metadata": {},
   "outputs": [],
   "source": [
    "# If no_of_children is null and family_size is 1; no_of_children should be 0.\n",
    "customer_demographics_data.loc[ (customer_demographics_data.no_of_children.isnull()) \\\n",
    "                                    & (customer_demographics_data.family_size==1), \"no_of_children\"] = 0\n",
    "\n",
    "\n",
    "# If marital_status is null and family_size is 1; marital_status should be 'Single'.\n",
    "customer_demographics_data.loc[ (customer_demographics_data.marital_status.isnull()) \\\n",
    "                                    & (customer_demographics_data.family_size==1), \"marital_status\"] = 'Single'\n",
    "\n",
    "\n",
    "# If no_of_children is null, marital_status is 'Married', and  family_size is 2; no_of_children should be 0.\n",
    "customer_demographics_data.loc[ (customer_demographics_data.no_of_children.isnull()) \\\n",
    "                                    & (customer_demographics_data.marital_status=='Married') \\\n",
    "                                    & (customer_demographics_data.family_size==2), \"no_of_children\"] = 0\n",
    "\n"
   ]
  },
  {
   "cell_type": "code",
   "execution_count": 68,
   "metadata": {},
   "outputs": [
    {
     "data": {
      "text/plain": [
       "Married    142\n",
       "Single      23\n",
       "Name: marital_status, dtype: int64"
      ]
     },
     "execution_count": 68,
     "metadata": {},
     "output_type": "execute_result"
    }
   ],
   "source": [
    "# Checking the distribution of marital_status for customers with no_of_children > 0.\n",
    "customer_demographics_data.loc[customer_demographics_data.no_of_children > 0].marital_status.value_counts()"
   ]
  },
  {
   "cell_type": "code",
   "execution_count": 72,
   "metadata": {},
   "outputs": [],
   "source": [
    "# 13.9% of customers were with no_of_children > 0 and marital_status = 'Single'.\n",
    "# Keeping the distribution intact during imputation.\n",
    "customer_demographics_data.loc[(customer_demographics_data.marital_status.isnull()) \\\n",
    "                               & (customer_demographics_data.no_of_children > 0), \"marital_status\"] \\\n",
    "= ('Married' if (random.uniform(0, 100) >= 14) else 'Single')"
   ]
  },
  {
   "cell_type": "code",
   "execution_count": 73,
   "metadata": {},
   "outputs": [
    {
     "name": "stdout",
     "output_type": "stream",
     "text": [
      "     customer_id  age_range marital_status  rented  family_size  \\\n",
      "5             11       75.0         Single       0            2   \n",
      "12            22       40.5         Single       0            2   \n",
      "20            38       50.5         Single       0            2   \n",
      "23            41       50.5         Single       0            2   \n",
      "42            82       75.0         Single       0            2   \n",
      "46            87       50.5         Single       0            2   \n",
      "69           136       63.0         Single       0            2   \n",
      "132          265       21.5         Single       0            2   \n",
      "147          292       30.5         Single       1            2   \n",
      "149          294       21.5         Single       0            2   \n",
      "175          353       40.5         Single       0            2   \n",
      "223          455       50.5         Single       0            2   \n",
      "280          558       40.5         Single       0            2   \n",
      "337          679       40.5         Single       1            2   \n",
      "343          693       30.5         Single       0            2   \n",
      "385          784       50.5         Single       0            2   \n",
      "414          853       75.0         Single       0            2   \n",
      "488          990       21.5         Single       0            2   \n",
      "533         1111       50.5         Single       0            2   \n",
      "552         1151       50.5         Single       0            2   \n",
      "613         1273       30.5         Single       0            2   \n",
      "615         1284       40.5         Single       1            2   \n",
      "619         1296       30.5         Single       0            2   \n",
      "644         1339       63.0         Single       0            2   \n",
      "666         1381       75.0         Single       0            2   \n",
      "748         1552       50.5         Single       0            2   \n",
      "\n",
      "     no_of_children  income_bracket  \n",
      "5               NaN               1  \n",
      "12              NaN               4  \n",
      "20              NaN               5  \n",
      "23              NaN               4  \n",
      "42              NaN               4  \n",
      "46              NaN               4  \n",
      "69              NaN               1  \n",
      "132             NaN               3  \n",
      "147             NaN               1  \n",
      "149             NaN               5  \n",
      "175             NaN               6  \n",
      "223             NaN               5  \n",
      "280             NaN               5  \n",
      "337             NaN               4  \n",
      "343             NaN               4  \n",
      "385             NaN               4  \n",
      "414             NaN               2  \n",
      "488             NaN               5  \n",
      "533             NaN               7  \n",
      "552             NaN               4  \n",
      "613             NaN               8  \n",
      "615             NaN               4  \n",
      "619             NaN               8  \n",
      "644             NaN               4  \n",
      "666             NaN               4  \n",
      "748             NaN               3  \n"
     ]
    }
   ],
   "source": [
    "# Checking the demographics for customer where no_of_children is null, but marital_status has a valid value.\n",
    "print(customer_demographics_data.loc[~(customer_demographics_data.marital_status.isna())\\\n",
    "                              & (customer_demographics_data.no_of_children.isna())])"
   ]
  },
  {
   "cell_type": "code",
   "execution_count": 74,
   "metadata": {},
   "outputs": [],
   "source": [
    "# It was found on observation that cases where 'no_of_children' was null but 'marital_status' was available all \n",
    "# were 'Single' with family_size = 2.\n",
    "# Assuming that since they were 'Single', they didn't find it necessary to fill the data for 'no_of_children'.\n",
    "# Hence, setting no_of_children for those records as 0.\n",
    "# This assumes that the single-father and single-mother case is not there for the customers who haven't filled \n",
    "# these details.\n",
    "\n",
    "customer_demographics_data.loc[~(customer_demographics_data.marital_status.isna())\\\n",
    "                              & (customer_demographics_data.no_of_children.isna()), \"no_of_children\" ] = 0"
   ]
  },
  {
   "cell_type": "code",
   "execution_count": 84,
   "metadata": {},
   "outputs": [
    {
     "name": "stdout",
     "output_type": "stream",
     "text": [
      "customer_id        0\n",
      "age_range          0\n",
      "marital_status    89\n",
      "rented             0\n",
      "family_size        0\n",
      "no_of_children    89\n",
      "income_bracket     0\n",
      "dtype: int64\n"
     ]
    }
   ],
   "source": [
    "# Checking the status of null values in the 'customer_demographics_data'\n",
    "print(customer_demographics_data.isna().sum())\n"
   ]
  },
  {
   "cell_type": "code",
   "execution_count": 85,
   "metadata": {},
   "outputs": [
    {
     "data": {
      "text/plain": [
       "array([2])"
      ]
     },
     "execution_count": 85,
     "metadata": {},
     "output_type": "execute_result"
    }
   ],
   "source": [
    "# For the remaining data, it is observed that 89 customers still have missing data and \n",
    "# both 'marital_status' and 'no_of_children' are missing for all of these.\n",
    "# Also, it is observed that all such customers have family_size = 2, and rented = 0.\n",
    "# marital_status \n",
    "\n",
    "customer_demographics_data.loc[ (customer_demographics_data.marital_status.isna())\\\n",
    "                               & (customer_demographics_data.no_of_children.isna()) ].family_size.unique()"
   ]
  },
  {
   "cell_type": "code",
   "execution_count": 90,
   "metadata": {},
   "outputs": [
    {
     "data": {
      "image/png": "[encoded data removed]",
      "text/plain": [
       "<Figure size 432x288 with 1 Axes>"
      ]
     },
     "metadata": {
      "needs_background": "light"
     },
     "output_type": "display_data"
    },
    {
     "data": {
      "image/png": "[encoded data removed]",
      "text/plain": [
       "<Figure size 432x288 with 1 Axes>"
      ]
     },
     "metadata": {
      "needs_background": "light"
     },
     "output_type": "display_data"
    },
    {
     "data": {
      "image/png": "[encoded data removed]",
      "text/plain": [
       "<Figure size 432x288 with 1 Axes>"
      ]
     },
     "metadata": {
      "needs_background": "light"
     },
     "output_type": "display_data"
    },
    {
     "data": {
      "text/plain": [
       "21.5     1.250000\n",
       "30.5     3.800000\n",
       "40.5     5.285714\n",
       "50.5     7.000000\n",
       "63.0    14.500000\n",
       "75.0     7.500000\n",
       "Name: age_range, dtype: float64"
      ]
     },
     "execution_count": 90,
     "metadata": {},
     "output_type": "execute_result"
    }
   ],
   "source": [
    "# Observing the marital_status of people with family_size = 2, for whom data is available.\n",
    "\n",
    "plt.scatter(customer_demographics_data.family_size, customer_demographics_data.no_of_children,\n",
    "           alpha=0.01)\n",
    "plt.xlabel('family_size')\n",
    "plt.ylabel('no_of_children')\n",
    "plt.show()\n",
    "\n",
    "cond = ( ~(customer_demographics_data.marital_status.isna()) \\\n",
    "        & ~(customer_demographics_data.no_of_children.isna()) ) \\\n",
    "& (customer_demographics_data.family_size == 2)\n",
    "\n",
    "\n",
    "\n",
    "plt.hist(customer_demographics_data.loc[ cond, \"age_range\" ], density=False)\n",
    "plt.xlabel('age_range')\n",
    "plt.ylabel('frequency')\n",
    "plt.show()\n",
    "\n",
    "\n",
    "plt.hist(customer_demographics_data.loc[ cond \\\n",
    "                                        & (customer_demographics_data.marital_status == 'Married'), \"age_range\" ],\n",
    "         density=False)\n",
    "\n",
    "\n",
    "\n",
    "plt.hist(customer_demographics_data.loc[ cond \\\n",
    "                                        & (customer_demographics_data.marital_status == 'Single'), \"age_range\" ],\n",
    "         color = 'r',\n",
    "         density=False)\n",
    "plt.xlabel('age_range')\n",
    "plt.ylabel('frequency')\n",
    "plt.show()\n",
    "\n",
    "\n",
    "married_with_family_size_2_age_range = customer_demographics_data.loc[ cond \\\n",
    "                               & (customer_demographics_data.marital_status == 'Married'), \"age_range\"]\n",
    "\n",
    "single_with_family_size_2_age_range = customer_demographics_data.loc[ cond \\\n",
    "                               & (customer_demographics_data.marital_status == 'Single'), \"age_range\"]\n",
    "\n",
    "married_with_family_size_2_age_range.value_counts() / single_with_family_size_2_age_range.value_counts()\n",
    "\n",
    "         "
   ]
  },
  {
   "cell_type": "code",
   "execution_count": 91,
   "metadata": {},
   "outputs": [],
   "source": [
    "# Here we find out that people with family_size = 2, for whom data is available, tend to be 'Married' \n",
    "# with following ratios (Married:Single), as per the age_range:\n",
    "# age_range ratio\n",
    "# 21.5     5.0\n",
    "# 30.5    19.0\n",
    "# 40.5    18.5\n",
    "# 50.5    63.0\n",
    "# 63.0     NaN ---> no single\n",
    "# 75.0     NaN ---> no single\n",
    "\n",
    "\n"
   ]
  },
  {
   "cell_type": "code",
   "execution_count": 92,
   "metadata": {},
   "outputs": [],
   "source": [
    "# Based on the above observation, we fill the remaining values for marital_status = 'Married' and no_of_children = 0 \n",
    "# (given the family_size is 2: the customer and their partner).\n",
    "\n",
    "customer_demographics_data.loc[ (customer_demographics_data.marital_status.isna())\\\n",
    "                              & (customer_demographics_data.no_of_children.isna()) , \n",
    "                               [\"marital_status\", \"no_of_children\"] ] = ['Married', 0]\n"
   ]
  },
  {
   "cell_type": "code",
   "execution_count": 93,
   "metadata": {},
   "outputs": [
    {
     "data": {
      "text/plain": [
       "customer_id       0\n",
       "age_range         0\n",
       "marital_status    0\n",
       "rented            0\n",
       "family_size       0\n",
       "no_of_children    0\n",
       "income_bracket    0\n",
       "dtype: int64"
      ]
     },
     "execution_count": 93,
     "metadata": {},
     "output_type": "execute_result"
    }
   ],
   "source": [
    "customer_demographics_data.isna().sum()"
   ]
  },
  {
   "cell_type": "markdown",
   "metadata": {},
   "source": [
    "### Saving the cleaned up data."
   ]
  },
  {
   "cell_type": "code",
   "execution_count": 98,
   "metadata": {},
   "outputs": [
    {
     "name": "stdout",
     "output_type": "stream",
     "text": [
      "mkdir: cleaned_data: File exists\r\n"
     ]
    }
   ],
   "source": [
    "!mkdir cleaned_data\n",
    "\n",
    "campaign_data.to_csv(\"cleaned_data/campaign_data.csv\", index=False)\n",
    "coupon_item_mapping_data.to_csv(\"cleaned_data/coupon_item_mapping_data.csv\", index=False)\n",
    "customer_demographics_data.to_csv(\"cleaned_data/customer_demographics_data.csv\", index=False)\n",
    "customer_transaction_data.to_csv(\"cleaned_data/customer_transaction_data.csv\", index=False)\n",
    "item_data.to_csv(\"cleaned_data/item_data.csv\", index=False)\n",
    "train_data.to_csv(\"cleaned_data/train_data.csv\", index=False)"
   ]
  },
  {
   "cell_type": "markdown",
   "metadata": {},
   "source": [
    "# Baseline Model\n",
    "\n"
   ]
  },
  {
   "cell_type": "code",
   "execution_count": 94,
   "metadata": {},
   "outputs": [
    {
     "name": "stdout",
     "output_type": "stream",
     "text": [
      "mkdir: submissions: File exists\r\n"
     ]
    }
   ],
   "source": [
    "!mkdir submissions\n",
    "\n",
    "def save_submission(predictions):\n",
    "    submission_df = pd.concat([test_data['id'], pd.Series(predictions, name=\"redemption_status\")], axis=1)\n",
    "\n",
    "    submission_file_name = \"submissions/\" + str(int(time.time())) + \".csv\"\n",
    "\n",
    "    submission_df.to_csv(submission_file_name, index=False)"
   ]
  },
  {
   "cell_type": "code",
   "execution_count": 95,
   "metadata": {},
   "outputs": [],
   "source": [
    "# Baseline model - uses campaign_id, customer_id, coupon_id.\n",
    "from sklearn.linear_model import LogisticRegression\n",
    "\n",
    "classifier = LogisticRegression(solver='liblinear')\n",
    "classifier.fit(train_data.drop(columns=['id', 'redemption_status']), train_data['redemption_status'])\n",
    "\n",
    "predictions_test = classifier.predict(test_data.drop(columns=['id']))\n",
    "predictions_train = classifier.predict(train_data.drop(columns=['id', 'redemption_status']))\n",
    "predictions_train_probability = classifier.predict_proba(train_data.drop(columns=['id', 'redemption_status']))\n",
    "\n",
    "# save_submission(predictions_test)"
   ]
  },
  {
   "cell_type": "code",
   "execution_count": 96,
   "metadata": {},
   "outputs": [
    {
     "name": "stdout",
     "output_type": "stream",
     "text": [
      "[[77640     0]\n",
      " [  729     0]]\n",
      "0.5746672942333827\n"
     ]
    }
   ],
   "source": [
    "print(confusion_matrix(train_data['redemption_status'], predictions_train))\n",
    "print(roc_auc_score(train_data['redemption_status'], pd.DataFrame(predictions_train_probability)[1]))\n"
   ]
  },
  {
   "cell_type": "code",
   "execution_count": null,
   "metadata": {},
   "outputs": [],
   "source": []
  },
  {
   "cell_type": "code",
   "execution_count": null,
   "metadata": {},
   "outputs": [],
   "source": []
  },
  {
   "cell_type": "code",
   "execution_count": 282,
   "metadata": {},
   "outputs": [],
   "source": []
  },
  {
   "cell_type": "code",
   "execution_count": null,
   "metadata": {},
   "outputs": [],
   "source": []
  },
  {
   "cell_type": "code",
   "execution_count": null,
   "metadata": {},
   "outputs": [],
   "source": []
  },
  {
   "cell_type": "code",
   "execution_count": null,
   "metadata": {},
   "outputs": [],
   "source": []
  }
 ],
 "metadata": {
  "kernelspec": {
   "display_name": "Python 3",
   "language": "python",
   "name": "python3"
  },
  "language_info": {
   "codemirror_mode": {
    "name": "ipython",
    "version": 3
   },
   "file_extension": ".py",
   "mimetype": "text/x-python",
   "name": "python",
   "nbconvert_exporter": "python",
   "pygments_lexer": "ipython3",
   "version": "3.7.1"
  }
 },
 "nbformat": 4,
 "nbformat_minor": 2
}
