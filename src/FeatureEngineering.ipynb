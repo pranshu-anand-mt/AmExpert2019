{
 "cells": [
  {
   "cell_type": "code",
   "execution_count": 31,
   "metadata": {},
   "outputs": [],
   "source": [
    "# !pip install --upgrade pip --quiet\n",
    "# !pip install -r requirements.txt --quiet\n",
    "\n",
    "import os\n",
    "import pandas as pd\n",
    "import numpy as np\n",
    "import matplotlib.pyplot as plt\n",
    "import random\n",
    "import time\n",
    "from sklearn.metrics import confusion_matrix\n",
    "from sklearn.metrics import roc_auc_score as roc_auc_score\n"
   ]
  },
  {
   "cell_type": "code",
   "execution_count": 38,
   "metadata": {},
   "outputs": [],
   "source": [
    "def load_data():\n",
    "#     current_file = os.path.abspath(os.path.dirname())\n",
    "    current_file = \"\"\n",
    "\n",
    "    csv_filename = os.path.join(current_file, './cleaned_data/campaign_data.csv')\n",
    "    campaign_data = pd.read_csv(csv_filename)\n",
    "\n",
    "    csv_filename = os.path.join(current_file, './cleaned_data/coupon_item_mapping_data.csv')\n",
    "    coupon_item_mapping_data = pd.read_csv(csv_filename)\n",
    "\n",
    "    csv_filename = os.path.join(current_file, './cleaned_data/customer_demographics_data.csv')\n",
    "    customer_demographics_data = pd.read_csv(csv_filename)\n",
    "\n",
    "    csv_filename = os.path.join(current_file, './cleaned_data/customer_transaction_data.csv')\n",
    "    customer_transaction_data = pd.read_csv(csv_filename)\n",
    "\n",
    "    csv_filename = os.path.join(current_file, './cleaned_data/item_data.csv')\n",
    "    item_data = pd.read_csv(csv_filename)\n",
    "\n",
    "    csv_filename = os.path.join(current_file, './cleaned_data/train_data.csv')\n",
    "    train_data = pd.read_csv(csv_filename)\n",
    "\n",
    "    csv_filename = os.path.join(current_file, '../test_data/test_QyjYwdj.csv')\n",
    "    test_data = pd.read_csv(csv_filename)\n",
    "    \n",
    "    return campaign_data, coupon_item_mapping_data, customer_demographics_data, \\\n",
    "           customer_transaction_data, item_data, train_data, test_data"
   ]
  },
  {
   "cell_type": "code",
   "execution_count": 39,
   "metadata": {},
   "outputs": [],
   "source": [
    "campaign_data, coupon_item_mapping_data, customer_demographics_data, \\\n",
    "customer_transaction_data, item_data, train_data, test_data = load_data()\n"
   ]
  },
  {
   "cell_type": "code",
   "execution_count": 40,
   "metadata": {},
   "outputs": [
    {
     "name": "stdout",
     "output_type": "stream",
     "text": [
      "mkdir: submissions: File exists\r\n"
     ]
    }
   ],
   "source": [
    "!mkdir submissions\n",
    "\n",
    "def save_submission(predictions):\n",
    "    submission_df = pd.concat([test_data['id'], pd.Series(predictions, name=\"redemption_status\")], axis=1)\n",
    "\n",
    "    submission_file_name = \"submissions/\" + str(int(time.time())) + \".csv\"\n",
    "\n",
    "    submission_df.to_csv(submission_file_name, index=False)"
   ]
  },
  {
   "cell_type": "code",
   "execution_count": 49,
   "metadata": {},
   "outputs": [],
   "source": [
    "def print_evaluation_matrix(train_data, predictions, predictions_probability):\n",
    "    print(confusion_matrix(train_data['redemption_status'], predictions))\n",
    "    print(roc_auc_score(train_data['redemption_status'], pd.DataFrame(predictions_probability)[1]))\n"
   ]
  },
  {
   "cell_type": "code",
   "execution_count": 50,
   "metadata": {},
   "outputs": [],
   "source": [
    "# Baseline model\n",
    "from sklearn.linear_model import LogisticRegression\n",
    "\n",
    "classifier = LogisticRegression(solver='liblinear')\n",
    "classifier.fit(train_data.drop(columns=['id', 'redemption_status']), train_data['redemption_status'])\n",
    "\n",
    "predictions_test = classifier.predict(test_data.drop(columns=['id']))\n",
    "predictions_train = classifier.predict(train_data.drop(columns=['id', 'redemption_status']))\n",
    "predictions_train_probability = classifier.predict_proba(train_data.drop(columns=['id', 'redemption_status']))\n",
    "\n",
    "save_submission(predictions_test)"
   ]
  },
  {
   "cell_type": "code",
   "execution_count": 51,
   "metadata": {},
   "outputs": [
    {
     "name": "stdout",
     "output_type": "stream",
     "text": [
      "[[77640     0]\n",
      " [  729     0]]\n",
      "0.5746672942333827\n"
     ]
    }
   ],
   "source": [
    "print_evaluation_matrix(train_data, predictions_train, predictions_train_probability)"
   ]
  },
  {
   "cell_type": "code",
   "execution_count": null,
   "metadata": {},
   "outputs": [],
   "source": []
  },
  {
   "cell_type": "code",
   "execution_count": null,
   "metadata": {},
   "outputs": [],
   "source": []
  },
  {
   "cell_type": "code",
   "execution_count": null,
   "metadata": {},
   "outputs": [],
   "source": []
  }
 ],
 "metadata": {
  "kernelspec": {
   "display_name": "Python 3",
   "language": "python",
   "name": "python3"
  },
  "language_info": {
   "codemirror_mode": {
    "name": "ipython",
    "version": 3
   },
   "file_extension": ".py",
   "mimetype": "text/x-python",
   "name": "python",
   "nbconvert_exporter": "python",
   "pygments_lexer": "ipython3",
   "version": "3.7.1"
  }
 },
 "nbformat": 4,
 "nbformat_minor": 2
}
