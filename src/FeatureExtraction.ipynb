{
 "cells": [
  {
   "cell_type": "code",
   "execution_count": 134,
   "metadata": {},
   "outputs": [],
   "source": [
    "# !pip install --upgrade pip --quiet\n",
    "# !pip install -r requirements.txt --quiet\n",
    "\n",
    "import os\n",
    "import pandas as pd\n",
    "import numpy as np\n",
    "import matplotlib.pyplot as plt\n",
    "import random\n",
    "import time\n",
    "from sklearn.metrics import confusion_matrix\n",
    "from sklearn.metrics import roc_auc_score as roc_auc_score\n",
    "from sklearn.base import BaseEstimator, TransformerMixin\n",
    "from sklearn.pipeline import Pipeline\n",
    "from sklearn.preprocessing import FunctionTransformer\n",
    "from dateutil.rrule import rrule, DAILY\n",
    "from sklearn.preprocessing import MultiLabelBinarizer\n",
    "from sklearn.preprocessing import OneHotEncoder\n",
    "from tqdm._tqdm_notebook import tqdm_notebook\n",
    "tqdm_notebook.pandas()\n",
    "import datetime\n",
    "\n"
   ]
  },
  {
   "cell_type": "markdown",
   "metadata": {},
   "source": [
    "# Loading cleaned_data"
   ]
  },
  {
   "cell_type": "code",
   "execution_count": 2,
   "metadata": {},
   "outputs": [],
   "source": [
    "def load_cleaned_data():\n",
    "#     current_file = os.path.abspath(os.path.dirname())\n",
    "    current_file = \"\"\n",
    "\n",
    "    csv_filename = os.path.join(current_file, './cleaned_data/campaign_data.csv')\n",
    "    campaign_data = pd.read_csv(csv_filename, parse_dates=['start_date', 'end_date'])\n",
    "\n",
    "    csv_filename = os.path.join(current_file, './cleaned_data/coupon_item_mapping_data.csv')\n",
    "    coupon_item_mapping_data = pd.read_csv(csv_filename)\n",
    "\n",
    "    csv_filename = os.path.join(current_file, './cleaned_data/customer_demographics_data.csv')\n",
    "    customer_demographics_data = pd.read_csv(csv_filename)\n",
    "\n",
    "    csv_filename = os.path.join(current_file, './cleaned_data/customer_transaction_data.csv')\n",
    "    customer_transaction_data = pd.read_csv(csv_filename, parse_dates=['date'])\n",
    "\n",
    "    csv_filename = os.path.join(current_file, './cleaned_data/item_data.csv')\n",
    "    item_data = pd.read_csv(csv_filename)\n",
    "\n",
    "    csv_filename = os.path.join(current_file, './cleaned_data/train_data.csv')\n",
    "    train_data = pd.read_csv(csv_filename)\n",
    "\n",
    "    csv_filename = os.path.join(current_file, '../test_data/test_QyjYwdj.csv')\n",
    "    test_data = pd.read_csv(csv_filename)\n",
    "    \n",
    "    return campaign_data, coupon_item_mapping_data, customer_demographics_data, \\\n",
    "           customer_transaction_data, item_data, train_data, test_data"
   ]
  },
  {
   "cell_type": "code",
   "execution_count": 4,
   "metadata": {},
   "outputs": [],
   "source": [
    "campaign_data_pure, coupon_item_mapping_data_pure, customer_demographics_data_pure, \\\n",
    "customer_transaction_data_pure, item_data_pure, train_data_pure, test_data_pure  = load_cleaned_data()\n"
   ]
  },
  {
   "cell_type": "code",
   "execution_count": 5,
   "metadata": {},
   "outputs": [],
   "source": [
    "# Saving a copy of cleaned_data read from csv so as to avoid re-reading, in case any changes are made in the \n",
    "# respective dataframes and original version is desired.\n",
    "# This is not the best solution; if either he dataset is large or further computations require huge memory.\n",
    "campaign_data, coupon_item_mapping_data, customer_demographics_data, \\\n",
    "customer_transaction_data, item_data, train_data, test_data \\\n",
    "= campaign_data_pure, coupon_item_mapping_data_pure, customer_demographics_data_pure, \\\n",
    "customer_transaction_data_pure, item_data_pure, train_data_pure, test_data_pure\n"
   ]
  },
  {
   "cell_type": "markdown",
   "metadata": {},
   "source": [
    "# Feature extraction utilities"
   ]
  },
  {
   "cell_type": "code",
   "execution_count": 8,
   "metadata": {},
   "outputs": [],
   "source": [
    "class DataFrameSelector(BaseEstimator, TransformerMixin):\n",
    "    def __init__(self, attribute_names):\n",
    "        self.attribute_names = attribute_names\n",
    "    def fit(self, X, y=None):\n",
    "        return self\n",
    "    def transform(self, X):\n",
    "        return X[self.attribute_names]"
   ]
  },
  {
   "cell_type": "code",
   "execution_count": 9,
   "metadata": {},
   "outputs": [],
   "source": [
    "def one_hot_encoder(df, column_name):\n",
    "    one_hot_encoder = OneHotEncoder(handle_unknown='ignore')\n",
    "    category_df = pd.DataFrame(df[column_name])\n",
    "    encoded_categories = one_hot_encoder.fit_transform(category_df)\n",
    "    \n",
    "    encoded_df = pd.DataFrame(encoded_categories.toarray(), columns=one_hot_encoder.get_feature_names([column_name]))\n",
    "   \n",
    "    return pd.concat([df, encoded_df], axis=1)\n"
   ]
  },
  {
   "cell_type": "code",
   "execution_count": 11,
   "metadata": {},
   "outputs": [],
   "source": [
    "# Find the number of days of overlap from 'start_date' to 'end_date', \n",
    "# among the time intervals given in 'intervals_df'\n",
    "\n",
    "def find_overlap_duration(start_date, end_date, intervals_df):\n",
    "    dates_to_check_against = set(\n",
    "        [dt for dt in rrule(DAILY, dtstart=start_date, until=end_date)])\n",
    "    \n",
    "    number_of_dates_originally = len(dates_to_check_against)\n",
    "    \n",
    "    for i in intervals_df.index:\n",
    "        dates_to_check = set(\n",
    "        [dt for dt in rrule(DAILY, dtstart=intervals_df.start_date[i], until=intervals_df.end_date[i])])\n",
    "    \n",
    "        dates_to_check_against = dates_to_check_against.difference(dates_to_check)\n",
    "        \n",
    "    \n",
    "    return number_of_dates_originally - len(dates_to_check_against)"
   ]
  },
  {
   "cell_type": "code",
   "execution_count": null,
   "metadata": {},
   "outputs": [],
   "source": [
    "def month_feature_binarizer(df):\n",
    "    months_array = df['months']\n",
    "    multi_label_binarizer = MultiLabelBinarizer()\n",
    "    months_encoded = multi_label_binarizer.fit_transform(months_array)\n",
    "\n",
    "    months_encoded_df = pd.DataFrame(months_encoded, columns=['Jan', 'Feb', 'Mar', 'Apr', 'May', 'Jun', 'Jul', 'Aug', 'Sep', 'Oct', 'Nov', 'Dec'])\n",
    "    return pd.concat([df, months_encoded_df], axis=1)"
   ]
  },
  {
   "cell_type": "code",
   "execution_count": null,
   "metadata": {},
   "outputs": [],
   "source": [
    "!mkdir feature_set\n",
    "\n",
    "def save_feature_set(df, file_name):\n",
    "    df.to_csv(\"feature_set/\" + file_name + \".csv\", index=False)"
   ]
  },
  {
   "cell_type": "code",
   "execution_count": 36,
   "metadata": {},
   "outputs": [
    {
     "name": "stdout",
     "output_type": "stream",
     "text": [
      "mkdir: feature_set/experimental: File exists\r\n"
     ]
    }
   ],
   "source": [
    "# Experimental directory is to save raw_features which are still not encoded and easily human-interpretable.\n",
    "!mkdir feature_set/experimental\n",
    "\n",
    "def save_experimental_feature_set(df, file_name):\n",
    "    df.to_csv(\"feature_set/experimental/\" + file_name + \".csv\", index=False)"
   ]
  },
  {
   "cell_type": "markdown",
   "metadata": {},
   "source": [
    "# 'campaign' based features' extraction "
   ]
  },
  {
   "cell_type": "code",
   "execution_count": 15,
   "metadata": {},
   "outputs": [],
   "source": [
    "def analyse_campaign_runs(campaign_data, custom_parameter=False):\n",
    "\n",
    "    campaign_data.start_date = pd.to_datetime(campaign_data.start_date)\n",
    "    campaign_data.end_date = pd.to_datetime(campaign_data.end_date)\n",
    "\n",
    "\n",
    "    same_type_overlapping_campaigns = []\n",
    "    other_type_overlapping_campaigns = []\n",
    "    same_type_overlap_duration = []\n",
    "    other_type_overlap_duration = []\n",
    "    duration_in_days = []\n",
    "    months = []\n",
    "    number_of_weekends = []\n",
    "\n",
    "    for i in campaign_data.index: \n",
    "        campaign_id_in_question = campaign_data.campaign_id[i]\n",
    "        campaign_type_in_question = campaign_data.campaign_type[i]\n",
    "        start_date_in_question = campaign_data.start_date[i]\n",
    "        end_date_in_question = campaign_data.end_date[i]\n",
    "\n",
    "        cond_2 = (campaign_data.start_date <= start_date_in_question) & (campaign_data.end_date >= start_date_in_question) \n",
    "        cond_1 = (campaign_data.start_date >= start_date_in_question) & (campaign_data.start_date <= end_date_in_question) \n",
    "        cond_overlapping_campaigns = (cond_1) | (cond_2)\n",
    "\n",
    "        cond_same_type = (campaign_data.campaign_type == campaign_type_in_question) \n",
    "        cond_other_type = (campaign_data.campaign_type != campaign_type_in_question) \n",
    "\n",
    "        cond_same_type = (cond_overlapping_campaigns) & (cond_same_type)\n",
    "        cond_other_type = (cond_overlapping_campaigns) & (cond_other_type)\n",
    "\n",
    "        # Same-type metrics\n",
    "        same_type_campaigns = campaign_data.loc[(cond_same_type) \\\n",
    "                                                & (campaign_data.campaign_id != campaign_id_in_question)]\n",
    "\n",
    "        same_type_overlapping_campaigns_count = same_type_campaigns.shape[0]\n",
    "        same_type_overlapping_campaigns.append(same_type_overlapping_campaigns_count)\n",
    "\n",
    "        same_type_overlap_duration_for_this_campaign = find_overlap_duration(\\\n",
    "            start_date_in_question, end_date_in_question, same_type_campaigns[['start_date', 'end_date']])\n",
    "        same_type_overlap_duration.append(same_type_overlap_duration_for_this_campaign)\n",
    "\n",
    "\n",
    "        # Other-type metrics\n",
    "        other_type_campaigns = campaign_data.loc[cond_other_type]\n",
    "\n",
    "        other_type_overlapping_campaigns_count = other_type_campaigns.shape[0]\n",
    "        other_type_overlapping_campaigns.append(other_type_overlapping_campaigns_count)\n",
    "\n",
    "        other_type_overlap_duration_for_this_campaign = find_overlap_duration(\\\n",
    "            start_date_in_question, end_date_in_question, other_type_campaigns[['start_date', 'end_date']])\n",
    "        other_type_overlap_duration.append(other_type_overlap_duration_for_this_campaign)\n",
    "\n",
    "\n",
    "        # Months Running\n",
    "        dates_running = set(rrule(DAILY, dtstart=start_date_in_question, until=end_date_in_question))\n",
    "        months_for_this_challenge = list(set([dt.month for dt in dates_running]))\n",
    "        months.append(months_for_this_challenge)\n",
    "\n",
    "        # Duration\n",
    "        duration_in_days_for_this_challenge = len(dates_running)\n",
    "        duration_in_days.append(duration_in_days_for_this_challenge)\n",
    "        \n",
    "        # Weekends\n",
    "        number_of_weekends_for_this_challenge = sum([dt.isoweekday() >= 6 for dt in list(dates_running)])\n",
    "        number_of_weekends.append(number_of_weekends_for_this_challenge)\n",
    "        \n",
    "    campaign_data['duration_in_days'] = pd.Series(duration_in_days, name='duration_in_days')\n",
    "    campaign_data['months'] = pd.Series(months, name='months')\n",
    "    campaign_data['same_type_overlapping_campaigns'] = pd.Series(same_type_overlapping_campaigns, name='same_type_overlapping_campaigns')\n",
    "    campaign_data['other_type_overlapping_campaigns'] = pd.Series(other_type_overlapping_campaigns, name='other_type_overlapping_campaigns_count')\n",
    "    campaign_data['same_type_overlap_duration'] = pd.Series(same_type_overlap_duration, name='same_type_overlap_duration')\n",
    "    campaign_data['other_type_overlap_duration'] = pd.Series(other_type_overlap_duration, name='other_type_overlap_duration')\n",
    "    campaign_data['number_of_weekends'] = pd.Series(number_of_weekends, name='number_of_weekends')\n",
    "\n",
    "#     return np.c_[campaign_data]\n",
    "    return campaign_data"
   ]
  },
  {
   "cell_type": "code",
   "execution_count": 43,
   "metadata": {},
   "outputs": [],
   "source": [
    "def get_campaign_based_raw_features():\n",
    "    attributes_to_process = list(campaign_data.columns.values)\n",
    "\n",
    "    campaign_type_processor = Pipeline([\n",
    "        ('attribute_selector', DataFrameSelector(attributes_to_process)),\n",
    "        ('campaign_runs_analyser', FunctionTransformer(analyse_campaign_runs, validate=False, \n",
    "                                                 kw_args={\"custom_parameter\": False})),\n",
    "#         ('month_labelizer', FunctionTransformer(month_feature_binarizer, validate=False)),\n",
    "#         ('one_hot_encoder', FunctionTransformer(one_hot_encoder, validate=False, \n",
    "#                                                 kw_args={\"column_name\": 'campaign_type'}))\n",
    "    ])\n",
    "    \n",
    "    return campaign_type_processor.fit_transform(campaign_data)"
   ]
  },
  {
   "cell_type": "code",
   "execution_count": 44,
   "metadata": {},
   "outputs": [],
   "source": [
    "# Get campaign_based_features and save to 'feature_set/experimental' directory.\n",
    "campaign_based_raw_features = get_campaign_based_raw_features()\n",
    "save_experimental_feature_set(campaign_based_features, 'campaign_based_features')"
   ]
  },
  {
   "cell_type": "code",
   "execution_count": 180,
   "metadata": {},
   "outputs": [],
   "source": [
    "def get_campaign_based_features():\n",
    "    raw_features = get_campaign_based_raw_features()\n",
    "\n",
    "    campaign_type_processor = Pipeline([\n",
    "        ('month_labelizer', FunctionTransformer(month_feature_binarizer, validate=False)),\n",
    "        ('one_hot_encoder', FunctionTransformer(one_hot_encoder, validate=False, \n",
    "                                                kw_args={\"column_name\": 'campaign_type'}))\n",
    "    ])\n",
    "    \n",
    "    encoded_features = campaign_type_processor.fit_transform(raw_features)\n",
    "    \n",
    "    encoded_features = encoded_features.drop(columns=['start_date', 'end_date', 'campaign_type', 'months'])\n",
    "\n",
    "    return encoded_features"
   ]
  },
  {
   "cell_type": "code",
   "execution_count": 181,
   "metadata": {},
   "outputs": [],
   "source": [
    "# Get campaign_based_features and save to 'feature_set' directory.\n",
    "campaign_based_features = get_campaign_based_features()\n",
    "save_feature_set(campaign_based_features, 'campaign_based_features')"
   ]
  },
  {
   "cell_type": "markdown",
   "metadata": {},
   "source": [
    "# campaign_customer combination features"
   ]
  },
  {
   "cell_type": "code",
   "execution_count": 61,
   "metadata": {},
   "outputs": [],
   "source": [
    "campaign_customer_combinations_train = train_data[['campaign_id', 'customer_id']].drop_duplicates()\n",
    "campaign_customer_combinations_test = test_data[['campaign_id', 'customer_id']].drop_duplicates()\n",
    "\n",
    "campaign_customer_combinations = pd.concat([campaign_customer_combinations_train, \\\n",
    "                                            campaign_customer_combinations_test]).drop_duplicates()\n"
   ]
  },
  {
   "cell_type": "code",
   "execution_count": 53,
   "metadata": {},
   "outputs": [],
   "source": [
    "campaign_customer_combinations = campaign_customer_combinations.merge(campaign_data)"
   ]
  },
  {
   "cell_type": "code",
   "execution_count": 135,
   "metadata": {},
   "outputs": [],
   "source": [
    "def get_date_in_current_year(old_date):\n",
    "    try:\n",
    "        new_date = datetime.date(year=2020, month=old_date.month, day=old_date.day)\n",
    "    except:\n",
    "        print(\"error in:\", old_date)\n",
    "        return 0\n",
    "    return new_date\n",
    "\n",
    "# customer_transaction_data_pure['dummy_date'] = customer_transaction_data_pure.date.apply(lambda x : get_date_in_current_year(x))\n"
   ]
  },
  {
   "cell_type": "code",
   "execution_count": 184,
   "metadata": {},
   "outputs": [],
   "source": [
    "def analyse_transactions_by_customer_till_campaign_start(row):\n",
    "    customer_id_in_question = row.customer_id\n",
    "    campaign_id_in_question = row.campaign_id\n",
    "    start_date_in_question = campaign_data.loc[campaign_data.campaign_id == campaign_id_in_question, \"start_date\"].iloc[0]\n",
    "    end_date_in_question = campaign_data.loc[campaign_data.campaign_id == campaign_id_in_question, \"end_date\"].iloc[0]\n",
    "    \n",
    "    # DF filtering\n",
    "    cond_for_previous_transactions = (customer_transaction_data.customer_id == customer_id_in_question) \\\n",
    "    & (customer_transaction_data.date < start_date_in_question)\n",
    "    \n",
    "    transactions_by_customer_till_campaign_start = \\\n",
    "    customer_transaction_data.loc[cond_for_previous_transactions]\n",
    "    \n",
    "    cond_for_any_discount = (transactions_by_customer_till_campaign_start.coupon_discount < 0) \\\n",
    "                     | (transactions_by_customer_till_campaign_start.other_discount < 0)\n",
    "\n",
    "    transactions_by_customer_till_campaign_start_with_any_discount = \\\n",
    "    transactions_by_customer_till_campaign_start.loc[cond_for_any_discount]\n",
    "\n",
    "    \n",
    "    cond_for_coupon_discount = (transactions_by_customer_till_campaign_start.coupon_discount < 0)\n",
    "    \n",
    "    transactions_by_customer_till_campaign_start_with_coupon_discount = \\\n",
    "    transactions_by_customer_till_campaign_start_with_any_discount.loc[cond_for_coupon_discount]\n",
    "\n",
    "\n",
    "    \n",
    "    # Number of transaction metrics\n",
    "    no_of_transactions_by_customer_till_campaign_start = \\\n",
    "    transactions_by_customer_till_campaign_start.count().date\n",
    "    \n",
    "    percentage_of_transactions_by_customer_till_campaign_start_with_any_discount = \\\n",
    "    transactions_by_customer_till_campaign_start_with_any_discount.count().date \\\n",
    "    / no_of_transactions_by_customer_till_campaign_start\n",
    "\n",
    "    percentage_of_transactions_by_customer_till_campaign_start_with_coupon_discount = \\\n",
    "    transactions_by_customer_till_campaign_start_with_coupon_discount.count().date \\\n",
    "    / no_of_transactions_by_customer_till_campaign_start\n",
    "\n",
    "    # Transaction amount metrics\n",
    "    transaction_amount_by_customer_till_campaign_start = \\\n",
    "    (transactions_by_customer_till_campaign_start.cost_price).sum()\n",
    "    \n",
    "    transaction_amount_by_customer_till_campaign_start_where_customer_got_any_discount = \\\n",
    "    (transactions_by_customer_till_campaign_start_with_any_discount.cost_price).sum()\n",
    "\n",
    "    transaction_amount_by_customer_till_campaign_start_where_customer_got_coupon_discount = \\\n",
    "    (transactions_by_customer_till_campaign_start_with_coupon_discount.cost_price).sum()\n",
    "\n",
    "    average_percent_discount_by_customer_till_campaign_start = \\\n",
    "    ((transactions_by_customer_till_campaign_start.coupon_discount \\\n",
    "     + transactions_by_customer_till_campaign_start.other_discount) \\\n",
    "     / transactions_by_customer_till_campaign_start.cost_price).mean()\n",
    "    \n",
    "    return [campaign_id_in_question, \\\n",
    "            customer_id_in_question, \\\n",
    "            no_of_transactions_by_customer_till_campaign_start, \\\n",
    "            percentage_of_transactions_by_customer_till_campaign_start_with_any_discount, \\\n",
    "            percentage_of_transactions_by_customer_till_campaign_start_with_coupon_discount, \\\n",
    "            transaction_amount_by_customer_till_campaign_start, \\\n",
    "            transaction_amount_by_customer_till_campaign_start_where_customer_got_any_discount, \\\n",
    "            transaction_amount_by_customer_till_campaign_start_where_customer_got_coupon_discount, \\\n",
    "            average_percent_discount_by_customer_till_campaign_start]\n",
    "     \n",
    "    \n",
    "    "
   ]
  },
  {
   "cell_type": "code",
   "execution_count": 185,
   "metadata": {},
   "outputs": [],
   "source": [
    "def get_customer_transactions_till_campaign_start_based_features():\n",
    "    customer_transactions_till_campaign_start_based_features = \\\n",
    "    campaign_customer_combinations\\\n",
    "    .progress_apply(lambda row: pd.Series(analyse_transactions_by_customer_till_campaign_start(row),\\\n",
    "                                      index=['campaign_id', \\\n",
    "                                             'customer_id', \\\n",
    "                                             'no_of_transactions_by_customer_till_campaign_start', \\\n",
    "                                             'percentage_of_transactions_by_customer_till_campaign_start_with_any_discount', \\\n",
    "                                             'percentage_of_transactions_by_customer_till_campaign_start_with_coupon_discount', \\\n",
    "                                             'transaction_amount_by_customer_till_campaign_start', \\\n",
    "                                             'transaction_amount_by_customer_till_campaign_start_where_customer_got_any_discount', \\\n",
    "                                             'transaction_amount_by_customer_till_campaign_start_where_customer_got_coupon_discount', \\\n",
    "                                             'average_percent_discount_by_customer_till_campaign_start']),\\\n",
    "                axis=1)\n",
    "    \n",
    "    return customer_transactions_till_campaign_start_based_features\n"
   ]
  },
  {
   "cell_type": "code",
   "execution_count": 216,
   "metadata": {},
   "outputs": [],
   "source": [
    "def analyse_customer_redemption_record_till_campaign_start(row):\n",
    "    campaign_id_in_question = row.campaign_id\n",
    "    start_date_in_question = campaign_data.loc[campaign_data.campaign_id == campaign_id_in_question, \"start_date\"].iloc[0]\n",
    "    customer_id_in_question = row.customer_id\n",
    "    \n",
    "    cond = (train_and_campaign_data.customer_id == customer_id_in_question)\n",
    "    cond = cond & (train_and_campaign_data.end_date < start_date_in_question)\n",
    "    \n",
    "    redemption_status = train_and_campaign_data.loc[cond].redemption_status\n",
    "    \n",
    "    if (redemption_status.count() != 0):\n",
    "        customer_redemption_record_till_campaign_start = \\\n",
    "        redemption_status.sum() / redemption_status.count()\n",
    "    else:\n",
    "        customer_redemption_record_till_campaign_start = 0\n",
    "            \n",
    "\n",
    "    return [campaign_id_in_question, \n",
    "            customer_id_in_question, \\\n",
    "            customer_redemption_record_till_campaign_start]\n",
    "    \n",
    "    "
   ]
  },
  {
   "cell_type": "code",
   "execution_count": 214,
   "metadata": {},
   "outputs": [],
   "source": [
    "def get_customer_redemption_record_till_campaign_start_features():\n",
    "    customer_redemption_record_till_campaign_start_feature = \\\n",
    "    campaign_customer_combinations\\\n",
    "    .progress_apply(lambda row: pd.Series(analyse_customer_redemption_record_till_campaign_start(row),\\\n",
    "                                      index=['campaign_id', \\\n",
    "                                             'customer_id', \\\n",
    "                                             'customer_redemption_record_till_campaign_start']),\\\n",
    "                axis=1)\n",
    "\n",
    "    return customer_redemption_record_till_campaign_start_feature\n"
   ]
  },
  {
   "cell_type": "code",
   "execution_count": 188,
   "metadata": {},
   "outputs": [],
   "source": [
    "def analyse_customer_transactions_for_similar_past_period(row):\n",
    "    customer_id_in_question = row.customer_id\n",
    "    campaign_id_in_question = row.campaign_id\n",
    "    start_date_in_question = campaign_data.loc[campaign_data.campaign_id == campaign_id_in_question, \"start_date\"].iloc[0]\n",
    "    end_date_in_question = campaign_data.loc[campaign_data.campaign_id == campaign_id_in_question, \"end_date\"].iloc[0]\n",
    "    dates_in_question = [datetime.date(2020, dt.month, dt.day) for dt in rrule(DAILY, dtstart=start_date_in_question, until=end_date_in_question)]\n",
    "        \n",
    "    \n",
    "    cond_for_similar_period_transactions = (customer_transaction_data.customer_id == customer_id_in_question) \\\n",
    "    & ( customer_transaction_data.date < start_date_in_question ) \\\n",
    "    & ( customer_transaction_data.dummy_date.isin(dates_in_question) )\n",
    "    \n",
    "                      \n",
    "    transactions_by_customer_for_similar_period = \\\n",
    "    customer_transaction_data_pure.loc[cond_for_similar_period_transactions]\n",
    "    \n",
    "    cond_for_any_discount = (transactions_by_customer_for_similar_period.coupon_discount < 0) \\\n",
    "                     | (transactions_by_customer_for_similar_period.other_discount < 0)\n",
    "\n",
    "    transactions_by_customer_for_similar_period_with_any_discount = \\\n",
    "    transactions_by_customer_for_similar_period.loc[cond_for_any_discount]\n",
    "\n",
    "    \n",
    "    cond_for_coupon_discount = (transactions_by_customer_for_similar_period.coupon_discount < 0)\n",
    "    \n",
    "    transactions_by_customer_for_similar_period_with_coupon_discount = \\\n",
    "    transactions_by_customer_for_similar_period_with_any_discount.loc[cond_for_coupon_discount]\n",
    "\n",
    "\n",
    "    \n",
    "    # Number of transaction metrics\n",
    "    no_of_transactions_by_customer_for_similar_period = \\\n",
    "    transactions_by_customer_for_similar_period.count().date\n",
    "    \n",
    "    percentage_of_transactions_by_customer_for_similar_period_with_any_discount = \\\n",
    "    transactions_by_customer_for_similar_period_with_any_discount.count().date \\\n",
    "    / no_of_transactions_by_customer_for_similar_period\n",
    "\n",
    "    percentage_of_transactions_by_customer_for_similar_period_with_coupon_discount = \\\n",
    "    transactions_by_customer_for_similar_period_with_coupon_discount.count().date \\\n",
    "    / no_of_transactions_by_customer_for_similar_period\n",
    "\n",
    "    # Transaction amout metrics\n",
    "    transaction_amount_by_customer_for_similar_period = \\\n",
    "    (transactions_by_customer_for_similar_period.cost_price).sum()\n",
    "    \n",
    "    transaction_amount_by_customer_for_similar_period_where_customer_got_any_discount = \\\n",
    "    (transactions_by_customer_for_similar_period_with_any_discount.cost_price).sum()\n",
    "\n",
    "    transaction_amount_by_customer_for_similar_period_where_customer_got_coupon_discount = \\\n",
    "    (transactions_by_customer_for_similar_period_with_coupon_discount.cost_price).sum()\n",
    "\n",
    "    average_percent_discount_by_customer_for_similar_period = \\\n",
    "    ((transactions_by_customer_for_similar_period.coupon_discount \\\n",
    "     + transactions_by_customer_for_similar_period.other_discount) \\\n",
    "     / transactions_by_customer_for_similar_period.cost_price).mean()\n",
    "    \n",
    "\n",
    "    return [campaign_id_in_question, \\\n",
    "            customer_id_in_question, \\\n",
    "            no_of_transactions_by_customer_for_similar_period, \\\n",
    "            percentage_of_transactions_by_customer_for_similar_period_with_any_discount, \\\n",
    "            percentage_of_transactions_by_customer_for_similar_period_with_coupon_discount, \\\n",
    "            transaction_amount_by_customer_for_similar_period, \\\n",
    "            transaction_amount_by_customer_for_similar_period_where_customer_got_any_discount, \\\n",
    "            transaction_amount_by_customer_for_similar_period_where_customer_got_coupon_discount, \\\n",
    "            average_percent_discount_by_customer_for_similar_period]  \n",
    "    "
   ]
  },
  {
   "cell_type": "code",
   "execution_count": 189,
   "metadata": {},
   "outputs": [],
   "source": [
    "def get_customer_transactions_for_similar_past_period_based_features():\n",
    "    \n",
    "    customer_transactions_for_similar_past_period_based_features = \\\n",
    "    campaign_customer_combinations\\\n",
    "    .progress_apply(lambda row: pd.Series(analyse_customer_transactions_for_similar_past_period(row),\\\n",
    "                                      index=['campaign_id', \\\n",
    "                                             'customer_id', \\\n",
    "                                             'no_of_transactions_by_customer_for_similar_period', \\\n",
    "                                             'percentage_of_transactions_by_customer_for_similar_period_with_any_discount', \\\n",
    "                                             'percentage_of_transactions_by_customer_for_similar_period_with_coupon_discount', \\\n",
    "                                             'transaction_amount_by_customer_for_similar_period', \\\n",
    "                                             'transaction_amount_by_customer_for_similar_period_where_customer_got_any_discount', \\\n",
    "                                             'transaction_amount_by_customer_for_similar_period_where_customer_got_coupon_discount', \\\n",
    "                                             'average_percent_discount_by_customer_for_similar_period']),\\\n",
    "                axis=1)\n",
    "    \n",
    "    return customer_transactions_for_similar_past_period_based_features"
   ]
  },
  {
   "cell_type": "code",
   "execution_count": 190,
   "metadata": {},
   "outputs": [],
   "source": [
    "def get_campaign_customer_features():\n",
    "    campaign_customer_features = campaign_customer_combinations\n",
    "    \n",
    "    campaign_customer_features = campaign_customer_features\\\n",
    "    .merge(get_customer_redemption_record_till_campaign_start_features())\n",
    "    \n",
    "#     customer_transaction_data['dummy_date'] = \\\n",
    "#     customer_transaction_data.date.apply(lambda x : get_date_in_current_year(x))\n",
    "    \n",
    "    campaign_customer_features = campaign_customer_features\\\n",
    "    .merge(get_customer_transactions_for_similar_past_period_based_features())\n",
    "    \n",
    "#     customer_transaction_data = customer_transaction_data.drop(columns=['dummy_date'])\n",
    "\n",
    "    campaign_customer_features = campaign_customer_features\\\n",
    "    .merge(get_customer_redemption_record_till_campaign_start_features())\n",
    "    \n",
    "    return campaign_customer_features\n",
    "    "
   ]
  },
  {
   "cell_type": "code",
   "execution_count": 219,
   "metadata": {},
   "outputs": [
    {
     "data": {
      "text/plain": [
       "HBox(children=(IntProgress(value=0, max=6967), HTML(value='')))"
      ]
     },
     "metadata": {},
     "output_type": "display_data"
    },
    {
     "name": "stdout",
     "output_type": "stream",
     "text": [
      "\n"
     ]
    },
    {
     "data": {
      "text/plain": [
       "HBox(children=(IntProgress(value=0, max=6967), HTML(value='')))"
      ]
     },
     "metadata": {},
     "output_type": "display_data"
    },
    {
     "name": "stderr",
     "output_type": "stream",
     "text": [
      "/Users/pranshuanand/Documents/MT/Development/personalRepos/AmExpert2019/venv/lib/python3.7/site-packages/ipykernel_launcher.py:37: RuntimeWarning: invalid value encountered in long_scalars\n",
      "/Users/pranshuanand/Documents/MT/Development/personalRepos/AmExpert2019/venv/lib/python3.7/site-packages/ipykernel_launcher.py:41: RuntimeWarning: invalid value encountered in long_scalars\n"
     ]
    },
    {
     "name": "stdout",
     "output_type": "stream",
     "text": [
      "\n"
     ]
    },
    {
     "data": {
      "text/plain": [
       "HBox(children=(IntProgress(value=0, max=6967), HTML(value='')))"
      ]
     },
     "metadata": {},
     "output_type": "display_data"
    },
    {
     "name": "stdout",
     "output_type": "stream",
     "text": [
      "\n"
     ]
    }
   ],
   "source": [
    "## Add dummy_date and drop after extracting features. \n",
    "## TODO: move it inside a function.\n",
    "\n",
    "customer_transaction_data['dummy_date'] = \\\n",
    "customer_transaction_data.date.apply(lambda x : get_date_in_current_year(x))\n",
    "    \n",
    "campaign_customer_features = get_campaign_customer_features()\n",
    "\n",
    "customer_transaction_data = customer_transaction_data.drop(columns=['dummy_date'])"
   ]
  },
  {
   "cell_type": "code",
   "execution_count": null,
   "metadata": {},
   "outputs": [],
   "source": []
  },
  {
   "cell_type": "code",
   "execution_count": 220,
   "metadata": {},
   "outputs": [],
   "source": [
    "save_feature_set(campaign_customer_features, 'campaign_customer_features')"
   ]
  },
  {
   "cell_type": "markdown",
   "metadata": {},
   "source": [
    "# coupon_customer combination features"
   ]
  },
  {
   "cell_type": "code",
   "execution_count": 140,
   "metadata": {},
   "outputs": [],
   "source": [
    "coupon_customer_combinations_train = train_data[['coupon_id', 'customer_id']].drop_duplicates()\n",
    "coupon_customer_combinations_test = test_data[['coupon_id', 'customer_id']].drop_duplicates()\n",
    "\n",
    "coupon_customer_combinations = pd.concat([coupon_customer_combinations_train, \\\n",
    "                                          coupon_customer_combinations_test]).drop_duplicates()\n"
   ]
  },
  {
   "cell_type": "code",
   "execution_count": 191,
   "metadata": {},
   "outputs": [],
   "source": [
    "def analyse_customer_coupon_intersection(row):\n",
    "    customer_id_in_question = row.customer_id\n",
    "    coupon_id_in_question = row.coupon_id\n",
    "    \n",
    "    item_ids_purchased_by_customer = \\\n",
    "    set(customer_transaction_data.loc[customer_transaction_data.customer_id == customer_id_in_question].item_id.unique())\n",
    "\n",
    "    brands_purchased_by_customer = \\\n",
    "    set(item_data_pure.loc[item_data_pure.item_id.isin(item_ids_purchased_by_customer)].brand.unique())\n",
    "\n",
    "    categories_purchased_by_customer = \\\n",
    "    set(item_data_pure.loc[item_data_pure.item_id.isin(item_ids_purchased_by_customer)].category.unique())\n",
    "\n",
    "    item_ids_covered_by_coupon = \\\n",
    "    set(coupon_item_mapping_data_pure.loc[(coupon_item_mapping_data_pure.coupon_id == coupon_id_in_question)].item_id.unique())\n",
    "    \n",
    "    brands_covered_by_coupon = \\\n",
    "    set(item_data_pure.loc[item_data_pure.item_id.isin(item_ids_covered_by_coupon)].brand.unique())\n",
    "    \n",
    "    categories_covered_by_coupon = \\\n",
    "    set(item_data_pure.loc[item_data_pure.item_id.isin(item_ids_covered_by_coupon)].category.unique())\n",
    "    \n",
    "    item_ids_purchased_by_customer_and_covered_by_coupon = \\\n",
    "    item_ids_purchased_by_customer.intersection(item_ids_covered_by_coupon)\n",
    "\n",
    "    brands_purchased_by_customer_and_covered_by_coupon = \\\n",
    "    brands_purchased_by_customer.intersection(brands_covered_by_coupon)\n",
    "    \n",
    "    categories_purchased_by_customer_and_covered_by_coupon = \\\n",
    "    categories_purchased_by_customer.intersection(categories_covered_by_coupon)\n",
    "    \n",
    "    no_of_item_ids_purchased_by_customer = len(item_ids_purchased_by_customer)\n",
    "    no_of_item_ids_covered_by_coupon = len(item_ids_covered_by_coupon)\n",
    "    no_of_item_ids_purchased_by_customer_and_covered_by_coupon = len(item_ids_purchased_by_customer_and_covered_by_coupon)\n",
    "\n",
    "    no_of_brands_purchased_by_customer = len(brands_purchased_by_customer)\n",
    "    no_of_brands_covered_by_coupon = len(brands_covered_by_coupon)\n",
    "    no_of_brands_purchased_by_customer_and_covered_by_coupon = len(brands_purchased_by_customer_and_covered_by_coupon)\n",
    "\n",
    "    no_of_categories_purchased_by_customer = len(categories_purchased_by_customer)\n",
    "    no_of_categories_covered_by_coupon = len(categories_covered_by_coupon)\n",
    "    no_of_categories_purchased_by_customer_and_covered_by_coupon = len(categories_purchased_by_customer_and_covered_by_coupon)\n",
    "\n",
    "\n",
    "    percent_of_item_ids_purchased_by_customer_and_covered_by_coupon = \\\n",
    "    no_of_brands_purchased_by_customer_and_covered_by_coupon / no_of_item_ids_purchased_by_customer\n",
    "    \n",
    "    percent_of_brands_purchased_by_customer_and_covered_by_coupon = \\\n",
    "    no_of_brands_purchased_by_customer_and_covered_by_coupon / no_of_brands_purchased_by_customer\n",
    "    \n",
    "    percent_of_categories_purchased_by_customer_and_covered_by_coupon = \\\n",
    "    no_of_categories_purchased_by_customer_and_covered_by_coupon / no_of_categories_purchased_by_customer\n",
    "    \n",
    "    return [customer_id_in_question, \\\n",
    "           coupon_id_in_question, \\\n",
    "           no_of_item_ids_purchased_by_customer_and_covered_by_coupon, \\\n",
    "           no_of_brands_purchased_by_customer_and_covered_by_coupon, \\\n",
    "           no_of_categories_purchased_by_customer_and_covered_by_coupon, \\\n",
    "           percent_of_item_ids_purchased_by_customer_and_covered_by_coupon, \\\n",
    "           percent_of_brands_purchased_by_customer_and_covered_by_coupon, \\\n",
    "           percent_of_categories_purchased_by_customer_and_covered_by_coupon]\n",
    "    \n",
    "    \n",
    "    "
   ]
  },
  {
   "cell_type": "code",
   "execution_count": 192,
   "metadata": {},
   "outputs": [],
   "source": [
    "def get_customer_coupon_intersection_features():\n",
    "    customer_coupon_intersection_features = \\\n",
    "    coupon_customer_combinations\\\n",
    "    .progress_apply(lambda row: pd.Series(analyze_customer_coupon_intersection(row),\\\n",
    "                                      index=['customer_id', \\\n",
    "                                             'coupon_id', \\\n",
    "                                             'no_of_item_ids_purchased_by_customer_and_covered_by_coupon', \\\n",
    "                                             'no_of_brands_purchased_by_customer_and_covered_by_coupon', \\\n",
    "                                             'no_of_categories_purchased_by_customer_and_covered_by_coupon', \\\n",
    "                                             'percent_of_item_ids_purchased_by_customer_and_covered_by_coupon', \\\n",
    "                                             'percent_of_brands_purchased_by_customer_and_covered_by_coupon', \\\n",
    "                                             'percent_of_categories_purchased_by_customer_and_covered_by_coupon']),\\\n",
    "                axis=1)\n",
    "\n",
    "    return customer_coupon_intersection_features"
   ]
  },
  {
   "cell_type": "code",
   "execution_count": 193,
   "metadata": {},
   "outputs": [],
   "source": [
    "def get_coupon_customer_features():\n",
    "    customer_coupon_intersection_features = get_customer_coupon_intersection_features()\n",
    "    \n",
    "    coupon_customer_features = coupon_customer_combinations\n",
    "    \n",
    "    coupon_customer_features = coupon_customer_features\\\n",
    "    .merge(customer_coupon_intersection_features)\n",
    "    \n",
    "    return coupon_customer_features"
   ]
  },
  {
   "cell_type": "code",
   "execution_count": 224,
   "metadata": {},
   "outputs": [
    {
     "data": {
      "text/plain": [
       "HBox(children=(IntProgress(value=0, max=125265), HTML(value='')))"
      ]
     },
     "metadata": {},
     "output_type": "display_data"
    },
    {
     "name": "stdout",
     "output_type": "stream",
     "text": [
      "\n"
     ]
    }
   ],
   "source": [
    "coupon_customer_features = get_coupon_customer_features()"
   ]
  },
  {
   "cell_type": "code",
   "execution_count": 225,
   "metadata": {},
   "outputs": [],
   "source": [
    "save_feature_set(coupon_customer_features, 'coupon_customer_features')"
   ]
  },
  {
   "cell_type": "markdown",
   "metadata": {},
   "source": [
    "# customer based features"
   ]
  },
  {
   "cell_type": "code",
   "execution_count": 145,
   "metadata": {},
   "outputs": [],
   "source": [
    "customer_ids_train = train_data[['customer_id']].drop_duplicates()\n",
    "customer_ids_test = test_data[['customer_id']].drop_duplicates()\n",
    "\n",
    "customer_ids = pd.concat([customer_ids_train, customer_ids_test]).drop_duplicates()\n"
   ]
  },
  {
   "cell_type": "code",
   "execution_count": 196,
   "metadata": {},
   "outputs": [],
   "source": [
    "def analyse_customer_brand_type_preference(row):\n",
    "    customer_id_in_question = row.customer_id\n",
    "    \n",
    "    item_ids_purchased_by_customer = \\\n",
    "    set(customer_transaction_data_pure.loc[customer_transaction_data_pure.customer_id == customer_id_in_question].item_id.unique())\n",
    "\n",
    "    brand_type_purchased_by_customer = \\\n",
    "    item_data_pure.loc[item_data_pure.item_id.isin(item_ids_purchased_by_customer)].brand_type\n",
    "    \n",
    "    customer_brand_type_preference = \\\n",
    "    brand_type_purchased_by_customer.value_counts()['Local'] / brand_type_purchased_by_customer.count()\n",
    "\n",
    "    return [customer_id_in_question, \\\n",
    "           customer_brand_type_preference]\n",
    "    \n",
    "    \n",
    "    "
   ]
  },
  {
   "cell_type": "code",
   "execution_count": 197,
   "metadata": {},
   "outputs": [],
   "source": [
    "def analyse_average_price_of_items_bought_by_customer(row):\n",
    "    customer_id_in_question = row.customer_id\n",
    "\n",
    "    try: \n",
    "        average_price_of_items_bought_by_customer = \\\n",
    "        customer_transaction_data_pure.loc[customer_transaction_data_pure.customer_id == customer_id_in_question].rate.mean()\n",
    "    except:\n",
    "        average_price_of_items_bought_by_customer = 0\n",
    "\n",
    "    return [customer_id_in_question, \\\n",
    "           average_price_of_items_bought_by_customer]    \n",
    "    \n",
    "    "
   ]
  },
  {
   "cell_type": "code",
   "execution_count": 198,
   "metadata": {},
   "outputs": [],
   "source": [
    "def get_customer_brand_type_preference_features():\n",
    "    customer_brand_type_preference_features = \\\n",
    "    customer_ids\\\n",
    "    .progress_apply(lambda row: pd.Series(get_customer_brand_type_preference(row),\\\n",
    "                                      index=['customer_id', \\\n",
    "                                             'local_brand_type_preference']),\\\n",
    "                axis=1)\n",
    "    \n",
    "    return customer_brand_type_preference_features"
   ]
  },
  {
   "cell_type": "code",
   "execution_count": 199,
   "metadata": {},
   "outputs": [],
   "source": [
    "def get_average_price_of_items_bought_by_customer_features():\n",
    "    average_price_of_items_bought_by_customer_features = \\\n",
    "    customer_ids\\\n",
    "    .progress_apply(lambda row: pd.Series(get_average_price_of_items_bought_by_customer(row),\\\n",
    "                                      index=['customer_id', \\\n",
    "                                             'average_price_of_items_bought_by_customer']),\\\n",
    "                axis=1)\n",
    "\n",
    "    return average_price_of_items_bought_by_customer_features"
   ]
  },
  {
   "cell_type": "code",
   "execution_count": 200,
   "metadata": {},
   "outputs": [],
   "source": [
    "def get_customer_based_features():\n",
    "    \n",
    "    customer_brand_type_preference_features = \\\n",
    "    get_customer_brand_type_preference_features()\n",
    "    \n",
    "    average_price_of_items_bought_by_customer_features = \\\n",
    "    get_average_price_of_items_bought_by_customer_features()\n",
    "    \n",
    "    \n",
    "    customer_based_features = customer_ids\n",
    "    \n",
    "    customer_based_features = customer_based_features.\\\n",
    "    merge(customer_brand_type_preference_features)\n",
    "    \n",
    "    customer_based_features = customer_based_features.\\\n",
    "    merge(average_price_of_items_bought_by_customer_features)\n",
    "    \n",
    "    return customer_based_features"
   ]
  },
  {
   "cell_type": "code",
   "execution_count": 201,
   "metadata": {},
   "outputs": [
    {
     "data": {
      "text/plain": [
       "HBox(children=(IntProgress(value=0, max=1582), HTML(value='')))"
      ]
     },
     "metadata": {},
     "output_type": "display_data"
    },
    {
     "name": "stdout",
     "output_type": "stream",
     "text": [
      "\n"
     ]
    },
    {
     "data": {
      "text/plain": [
       "HBox(children=(IntProgress(value=0, max=1582), HTML(value='')))"
      ]
     },
     "metadata": {},
     "output_type": "display_data"
    },
    {
     "name": "stdout",
     "output_type": "stream",
     "text": [
      "\n"
     ]
    }
   ],
   "source": [
    "customer_based_features = get_customer_based_features()"
   ]
  },
  {
   "cell_type": "code",
   "execution_count": 202,
   "metadata": {},
   "outputs": [],
   "source": [
    "save_feature_set(customer_based_features, 'customer_based_features')"
   ]
  },
  {
   "cell_type": "markdown",
   "metadata": {},
   "source": [
    "# coupon based features"
   ]
  },
  {
   "cell_type": "code",
   "execution_count": 150,
   "metadata": {},
   "outputs": [],
   "source": [
    "coupon_ids_train = train_data[['coupon_id']].drop_duplicates()\n",
    "coupon_ids_test = test_data[['coupon_id']].drop_duplicates()\n",
    "\n",
    "coupon_ids = pd.concat([coupon_ids_train, coupon_ids_test]).drop_duplicates()\n"
   ]
  },
  {
   "cell_type": "code",
   "execution_count": 167,
   "metadata": {},
   "outputs": [],
   "source": [
    "def analyse_average_price_of_items_with_coupon(row):\n",
    "    coupon_id_in_question = row.coupon_id\n",
    "    \n",
    "    item_ids_covered_by_coupon = \\\n",
    "    set(coupon_item_mapping_data_pure.loc[coupon_item_mapping_data_pure.coupon_id == coupon_id_in_question].item_id.unique())\n",
    "\n",
    "    try: \n",
    "        average_cost_price_of_items_with_coupon = \\\n",
    "        customer_transaction_data_pure.loc[customer_transaction_data_pure.item_id.isin(item_ids_covered_by_coupon)].rate.mean()\n",
    "    except:\n",
    "        average_cost_price_of_items_with_coupon = 0\n",
    "\n",
    "    return [coupon_id_in_question, \\\n",
    "           average_cost_price_of_items_with_coupon]    \n",
    "    "
   ]
  },
  {
   "cell_type": "code",
   "execution_count": 168,
   "metadata": {},
   "outputs": [],
   "source": [
    "def analyse_coupon_brand_type_bent(row):\n",
    "    coupon_id_in_question = row.coupon_id\n",
    "    \n",
    "    item_ids_covered_by_coupon = \\\n",
    "    set(coupon_item_mapping_data_pure.loc[coupon_item_mapping_data_pure.coupon_id == coupon_id_in_question].item_id.unique())\n",
    "\n",
    "    brand_type_covered_by_coupon = \\\n",
    "    item_data_pure.loc[item_data_pure.item_id.isin(item_ids_covered_by_coupon)].brand_type\n",
    "    \n",
    "    try:\n",
    "        coupon_brand_type_bent = \\\n",
    "        brand_type_covered_by_coupon.value_counts()['Local'] / brand_type_covered_by_coupon.count()\n",
    "    except:\n",
    "        coupon_brand_type_bent = 0\n",
    "\n",
    "    return [coupon_id_in_question, \\\n",
    "           coupon_brand_type_bent]\n",
    "    \n",
    "    "
   ]
  },
  {
   "cell_type": "code",
   "execution_count": 169,
   "metadata": {},
   "outputs": [],
   "source": [
    "def get_average_price_of_items_with_coupon_features():\n",
    "    average_price_of_items_with_coupon_features = \\\n",
    "    coupon_ids\\\n",
    "    .progress_apply(lambda row: pd.Series(get_average_price_of_items_with_coupon(row),\\\n",
    "                                      index=['coupon_id', \\\n",
    "                                             'average_price_of_items_with_coupon']),\\\n",
    "                axis=1)\n",
    "    \n",
    "    return average_price_of_items_with_coupon_features\n",
    "\n"
   ]
  },
  {
   "cell_type": "code",
   "execution_count": 205,
   "metadata": {},
   "outputs": [],
   "source": [
    "def get_coupon_brand_type_bent_features():\n",
    "    coupon_brand_type_bent_features = \\\n",
    "    coupon_ids\\\n",
    "    .progress_apply(lambda row: pd.Series(get_coupon_brand_type_bent(row),\\\n",
    "                                      index=['coupon_id', \\\n",
    "                                             'local_brand_type_bent']),\\\n",
    "                axis=1)\n",
    "    \n",
    "    return coupon_brand_type_bent_features"
   ]
  },
  {
   "cell_type": "code",
   "execution_count": 203,
   "metadata": {},
   "outputs": [],
   "source": [
    "def get_coupon_based_features():\n",
    "    coupon_brand_type_bent_features = get_coupon_brand_type_bent_features()\n",
    "    average_price_of_items_with_coupon_features = get_average_price_of_items_with_coupon_features()\n",
    "    \n",
    "    coupon_based_features = coupon_ids\n",
    "    coupon_based_features = coupon_ids.merge(coupon_brand_type_bent_features)\n",
    "    coupon_based_features = coupon_based_features.merge(average_price_of_items_with_coupon_features)\n",
    "\n",
    "    return coupon_based_features"
   ]
  },
  {
   "cell_type": "code",
   "execution_count": 206,
   "metadata": {},
   "outputs": [
    {
     "data": {
      "text/plain": [
       "HBox(children=(IntProgress(value=0, max=1116), HTML(value='')))"
      ]
     },
     "metadata": {},
     "output_type": "display_data"
    },
    {
     "name": "stdout",
     "output_type": "stream",
     "text": [
      "\n"
     ]
    },
    {
     "data": {
      "text/plain": [
       "HBox(children=(IntProgress(value=0, max=1116), HTML(value='')))"
      ]
     },
     "metadata": {},
     "output_type": "display_data"
    },
    {
     "name": "stdout",
     "output_type": "stream",
     "text": [
      "\n"
     ]
    }
   ],
   "source": [
    "coupon_based_features = get_coupon_based_features()"
   ]
  },
  {
   "cell_type": "code",
   "execution_count": 207,
   "metadata": {},
   "outputs": [],
   "source": [
    "save_feature_set(coupon_based_features, 'coupon_based_features')"
   ]
  },
  {
   "cell_type": "markdown",
   "metadata": {},
   "source": [
    "# campaign_coupon combination features"
   ]
  },
  {
   "cell_type": "code",
   "execution_count": 156,
   "metadata": {},
   "outputs": [],
   "source": [
    "campaign_coupon_combinations_train = train_data[['coupon_id', 'campaign_id']].drop_duplicates()\n",
    "campaign_coupon_combinations_test = test_data[['coupon_id', 'campaign_id']].drop_duplicates()\n",
    "\n",
    "campaign_coupon_combinations = pd.concat([campaign_coupon_combinations_train, \\\n",
    "                                          campaign_coupon_combinations_test]).drop_duplicates()"
   ]
  },
  {
   "cell_type": "code",
   "execution_count": 208,
   "metadata": {},
   "outputs": [],
   "source": [
    "def analyse_campaign_coupon_redemption_record_till_campaign_start(row):\n",
    "    campaign_id_in_question = row.campaign_id\n",
    "    start_date_in_question = campaign_data.loc[campaign_data.campaign_id == campaign_id_in_question, \"start_date\"].iloc[0]\n",
    "    coupon_id_in_question = row.coupon_id\n",
    "    \n",
    "    cond = (train_and_campaign_data.coupon_id == coupon_id_in_question)\n",
    "    cond = cond & (train_and_campaign_data.end_date < start_date_in_question)\n",
    "    \n",
    "    redemption_status = train_and_campaign_data.loc[cond].redemption_status\n",
    "    \n",
    "    if (redemption_status.count() != 0):\n",
    "        campaign_coupon_redemption_record_till_campaign_start = \\\n",
    "        redemption_status.sum() / redemption_status.count()\n",
    "    else:\n",
    "        campaign_coupon_redemption_record_till_campaign_start = 0\n",
    "            \n",
    "\n",
    "    return [campaign_id_in_question, \n",
    "            coupon_id_in_question, \\\n",
    "            campaign_coupon_redemption_record_till_campaign_start]\n",
    "    \n",
    "    "
   ]
  },
  {
   "cell_type": "code",
   "execution_count": 209,
   "metadata": {},
   "outputs": [],
   "source": [
    "def get_campaign_coupon_redemption_record_till_campaign_start_features():\n",
    "    campaign_coupon_redemption_record_till_campaign_start_features = \\\n",
    "    campaign_coupon_combinations\\\n",
    "    .progress_apply(lambda row: pd.Series(get_campaign_coupon_redemption_record_till_campaign_start(row),\\\n",
    "                                      index=['campaign_id', \\\n",
    "                                             'coupon_id', \\\n",
    "                                             'campaign_coupon_redemption_record_till_campaign_start']),\\\n",
    "                axis=1)\n",
    "\n",
    "    return campaign_coupon_redemption_record_till_campaign_start_features"
   ]
  },
  {
   "cell_type": "code",
   "execution_count": 210,
   "metadata": {},
   "outputs": [],
   "source": [
    "def get_campaign_coupon_features():\n",
    "    campaign_coupon_redemption_record_till_campaign_start_features = \\\n",
    "    get_campaign_coupon_redemption_record_till_campaign_start_features()\n",
    "        \n",
    "    campaign_coupon_features = campaign_coupon_combinations\n",
    "    \n",
    "    campaign_coupon_features = campaign_coupon_features\\\n",
    "    .merge(campaign_coupon_redemption_record_till_campaign_start_features)\n",
    "\n",
    "    return campaign_coupon_features"
   ]
  },
  {
   "cell_type": "code",
   "execution_count": 211,
   "metadata": {},
   "outputs": [
    {
     "data": {
      "text/plain": [
       "HBox(children=(IntProgress(value=0, max=1358), HTML(value='')))"
      ]
     },
     "metadata": {},
     "output_type": "display_data"
    },
    {
     "name": "stdout",
     "output_type": "stream",
     "text": [
      "\n"
     ]
    }
   ],
   "source": [
    "campaign_coupon_features = get_campaign_coupon_features()"
   ]
  },
  {
   "cell_type": "code",
   "execution_count": 212,
   "metadata": {},
   "outputs": [],
   "source": [
    "save_feature_set(campaign_coupon_features, 'campaign_coupon_features')"
   ]
  },
  {
   "cell_type": "code",
   "execution_count": null,
   "metadata": {},
   "outputs": [],
   "source": []
  },
  {
   "cell_type": "code",
   "execution_count": null,
   "metadata": {},
   "outputs": [],
   "source": []
  }
 ],
 "metadata": {
  "kernelspec": {
   "display_name": "Python 3",
   "language": "python",
   "name": "python3"
  },
  "language_info": {
   "codemirror_mode": {
    "name": "ipython",
    "version": 3
   },
   "file_extension": ".py",
   "mimetype": "text/x-python",
   "name": "python",
   "nbconvert_exporter": "python",
   "pygments_lexer": "ipython3",
   "version": "3.7.1"
  }
 },
 "nbformat": 4,
 "nbformat_minor": 2
}
